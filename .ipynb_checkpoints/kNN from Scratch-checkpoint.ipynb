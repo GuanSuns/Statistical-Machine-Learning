{
 "cells": [
  {
   "cell_type": "markdown",
   "metadata": {},
   "source": [
    "# kNN from Scratch\n",
    "- Implement kNN from scratch\n",
    "- Use MNIST handwriting dataset for evaluation\n",
    "- Use the kNN model in sklearn for comparison"
   ]
  },
  {
   "cell_type": "code",
   "execution_count": 87,
   "metadata": {},
   "outputs": [],
   "source": [
    "import struct\n",
    "import os\n",
    "import numpy as np\n",
    "import matplotlib\n",
    "from sklearn.neighbors import KNeighborsClassifier\n",
    "from sklearn.utils.random import sample_without_replacement\n",
    "import random\n",
    "import math\n",
    "import sys\n",
    "import matplotlib.pyplot as plt\n",
    "%matplotlib inline\n",
    "from collections import Counter"
   ]
  },
  {
   "cell_type": "markdown",
   "metadata": {},
   "source": [
    "## Load the Dataset\n",
    "- Link: http://yann.lecun.com/exdb/mnist/\n",
    "- The data reader is based on: https://colab.research.google.com/github/chokkan/deeplearningclass/blob/master/mnist.ipynb#scrollTo=TStlGwaUaZKC"
   ]
  },
  {
   "cell_type": "code",
   "execution_count": 244,
   "metadata": {},
   "outputs": [
    {
     "name": "stdout",
     "output_type": "stream",
     "text": [
      "training image shape:  (60000, 28, 28)\n",
      "training image vectors shape:  (60000, 784)\n",
      "training label shape:  (60000,)\n",
      "test image shape:  (10000, 28, 28)\n",
      "test image vectors shape:  (10000, 784)\n",
      "test label shape:  (10000,)\n",
      "\n",
      "After sampling: \n",
      "training image shape:  (10000, 28, 28)\n",
      "training image vectors shape:  (10000, 784)\n",
      "training label shape:  (10000,)\n",
      "test image shape:  (1000, 28, 28)\n",
      "test image vectors shape:  (1000, 784)\n",
      "test label shape:  (1000,)\n"
     ]
    }
   ],
   "source": [
    "def read_mnist_dataset(dir_minst):\n",
    "    training_img_file = os.path.join(dir_minst, 'train-images-idx3-ubyte')\n",
    "    training_label_file = os.path.join(dir_minst, 'train-labels-idx1-ubyte')\n",
    "    \n",
    "    test_img_file = os.path.join(dir_minst, 't10k-images-idx3-ubyte')\n",
    "    test_label_file = os.path.join(dir_minst, 't10k-labels-idx1-ubyte')\n",
    "    \n",
    "    # read the training set\n",
    "    training_label = None\n",
    "    with open(training_label_file, 'rb') as f:\n",
    "        magic, num = struct.unpack(\">II\", f.read(8))\n",
    "        training_label = np.fromfile(f, dtype=np.int8)\n",
    "    \n",
    "    training_img = None\n",
    "    with open(training_img_file, 'rb') as f:\n",
    "        magic, num, rows, cols = struct.unpack(\">IIII\", f.read(16))\n",
    "        training_img = np.fromfile(f, dtype=np.uint8).reshape(len(training_label), rows, cols)\n",
    "        \n",
    "    # read the testing set\n",
    "    test_label = None\n",
    "    with open(test_label_file, 'rb') as f:\n",
    "        magic, num = struct.unpack(\">II\", f.read(8))\n",
    "        test_label = np.fromfile(f, dtype=np.int8)\n",
    "    \n",
    "    test_img = None\n",
    "    with open(test_img_file, 'rb') as f:\n",
    "        magic, num, rows, cols = struct.unpack(\">IIII\", f.read(16))\n",
    "        test_img = np.fromfile(f, dtype=np.uint8).reshape(len(test_label), rows, cols)\n",
    "        \n",
    "    return training_img.astype(np.float64), training_label, test_img.astype(np.float64), test_label\n",
    "\n",
    "data_dir = 'dataset/MNIST'\n",
    "training_img, training_label, test_img, test_label = read_mnist_dataset(data_dir)\n",
    "training_img_vectors = np.reshape(training_img, (training_img.shape[0], -1))\n",
    "test_img_vectors = np.reshape(test_img, (test_img.shape[0], -1))\n",
    "\n",
    "print('training image shape: ', training_img.shape)\n",
    "print('training image vectors shape: ', training_img_vectors.shape)\n",
    "print('training label shape: ', training_label.shape)\n",
    "print('test image shape: ', test_img.shape)\n",
    "print('test image vectors shape: ', test_img_vectors.shape)\n",
    "print('test label shape: ', test_label.shape)\n",
    "\n",
    "# the dataset is too big, so we use a subset of it\n",
    "print('\\nAfter sampling: ')\n",
    "traning_subset_idx = sample_without_replacement(n_population=training_img_vectors.shape[0], n_samples=10000)\n",
    "training_img_vectors = training_img_vectors[traning_subset_idx]\n",
    "training_label = training_label[traning_subset_idx]\n",
    "training_img = training_img[traning_subset_idx]\n",
    "\n",
    "test_subset_idx = sample_without_replacement(n_population=test_img_vectors.shape[0], n_samples=1000)\n",
    "test_img_vectors = test_img_vectors[test_subset_idx]\n",
    "test_label = test_label[test_subset_idx]\n",
    "test_img = test_img[test_subset_idx]\n",
    "\n",
    "print('training image shape: ', training_img.shape)\n",
    "print('training image vectors shape: ', training_img_vectors.shape)\n",
    "print('training label shape: ', training_label.shape)\n",
    "print('test image shape: ', test_img.shape)\n",
    "print('test image vectors shape: ', test_img_vectors.shape)\n",
    "print('test label shape: ', test_label.shape)"
   ]
  },
  {
   "cell_type": "markdown",
   "metadata": {},
   "source": [
    "### Visualize the Data (Training)"
   ]
  },
  {
   "cell_type": "code",
   "execution_count": 185,
   "metadata": {},
   "outputs": [
    {
     "name": "stdout",
     "output_type": "stream",
     "text": [
      "Label:  2\n"
     ]
    },
    {
     "data": {
      "image/png": "[encoded data removed]",
      "text/plain": [
       "<Figure size 432x288 with 1 Axes>"
      ]
     },
     "metadata": {
      "needs_background": "light"
     },
     "output_type": "display_data"
    }
   ],
   "source": [
    "print('Label: ', training_label[0])\n",
    "plt.imshow(training_img_vectors[0].reshape(28,28),cmap='gray')\n",
    "plt.show()"
   ]
  },
  {
   "cell_type": "markdown",
   "metadata": {},
   "source": [
    "### Visualize the Data (Test)"
   ]
  },
  {
   "cell_type": "code",
   "execution_count": 186,
   "metadata": {},
   "outputs": [
    {
     "name": "stdout",
     "output_type": "stream",
     "text": [
      "Label:  7\n"
     ]
    },
    {
     "data": {
      "image/png": "[encoded data removed]",
      "text/plain": [
       "<Figure size 432x288 with 1 Axes>"
      ]
     },
     "metadata": {
      "needs_background": "light"
     },
     "output_type": "display_data"
    }
   ],
   "source": [
    "print('Label: ', test_label[9])\n",
    "plt.imshow(test_img_vectors[9].reshape(28,28),cmap='gray')\n",
    "plt.show()"
   ]
  },
  {
   "cell_type": "markdown",
   "metadata": {},
   "source": [
    "## kNN Model\n",
    "\n",
    "- The implementation has a complexity of $O(nd+kn)$ (since d<<n and k<<n, we have $O(nd+kn)=O(n)$), where d is the data dimension and n is the number of training data"
   ]
  },
  {
   "cell_type": "code",
   "execution_count": 245,
   "metadata": {},
   "outputs": [],
   "source": [
    "def euclidean_dist(data_0, data_1): \n",
    "    return np.linalg.norm(data_0 - data_1, ord=2)\n",
    "\n",
    "\n",
    "class kNN_model:\n",
    "    def __init__(self, n_neighbors, dist=euclidean_dist):\n",
    "        self.dist_func = dist\n",
    "        self.k = n_neighbors\n",
    "        self.X = None\n",
    "        self.y = None\n",
    "        \n",
    "    def fit(self, X, y):\n",
    "        self.X = X\n",
    "        self.y = y\n",
    "    \n",
    "    def predict(self, data_x):\n",
    "        prediction = []\n",
    "        for data_point in data_x:\n",
    "            prediction.append(self.predict_each(data_point))\n",
    "        return prediction\n",
    "    \n",
    "    def predict_each(self, data_x):\n",
    "        neighbor_idx, _ = self.k_neighbors(data_x)\n",
    "\n",
    "        # use the selected neighbors to get the prediction\n",
    "        votes = list()\n",
    "        for idx in neighbor_idx:\n",
    "            votes.append(self.y[idx])\n",
    "        vote_counter = Counter(votes)\n",
    "        # return the most frequent\n",
    "        return vote_counter.most_common()[0][0]\n",
    "    \n",
    "    def k_neighbors(self, data_x):\n",
    "        n_data = self.X.shape[0]\n",
    "        is_selected = np.zeros(shape=(n_data,), dtype=np.int8)\n",
    "        neighbor_idx = list()\n",
    "        \n",
    "        # calculate the distance\n",
    "        distance = np.zeros(shape=(n_data,))\n",
    "        for x_i, x in enumerate(self.X):\n",
    "            distance[x_i] = self.dist_func(data_x, x)\n",
    "\n",
    "        for _ in range(0, self.k):\n",
    "            current_min = None\n",
    "            current_min_index = None\n",
    "            \n",
    "            for x_i, x in enumerate(self.X):\n",
    "                if is_selected[x_i] == 1:\n",
    "                    continue\n",
    "                \n",
    "                dist_to_neighbor = distance[x_i]\n",
    "                if current_min is None or current_min > dist_to_neighbor:\n",
    "                    current_min = dist_to_neighbor\n",
    "                    current_min_index = x_i\n",
    "                \n",
    "            # select the current minimum\n",
    "            is_selected[current_min_index] = 1\n",
    "            neighbor_idx.append(current_min_index)\n",
    "        return neighbor_idx, distance[neighbor_idx]"
   ]
  },
  {
   "cell_type": "markdown",
   "metadata": {},
   "source": [
    "### Evaluation"
   ]
  },
  {
   "cell_type": "code",
   "execution_count": 246,
   "metadata": {},
   "outputs": [
    {
     "name": "stdout",
     "output_type": "stream",
     "text": [
      "k: 1, test data: 999/999, prediction: 5, true prediction: 8, current accuray: 0.944000\n",
      "k:  1 , accuracy:  0.944\n",
      "k: 3, test data: 999/999, prediction: 5, true prediction: 8, current accuray: 0.945000\n",
      "k:  3 , accuracy:  0.945\n",
      "k: 5, test data: 768/999, prediction: 7, true prediction: 7, current accuray: 0.946684"
     ]
    },
    {
     "ename": "KeyboardInterrupt",
     "evalue": "",
     "output_type": "error",
     "traceback": [
      "\u001b[0;31m---------------------------------------------------------------------------\u001b[0m",
      "\u001b[0;31mKeyboardInterrupt\u001b[0m                         Traceback (most recent call last)",
      "\u001b[0;32m<ipython-input-246-295b69bef4c1>\u001b[0m in \u001b[0;36m<module>\u001b[0;34m\u001b[0m\n\u001b[1;32m     32\u001b[0m         \u001b[0maccuracy\u001b[0m\u001b[0;34m.\u001b[0m\u001b[0mappend\u001b[0m\u001b[0;34m(\u001b[0m\u001b[0maccuracy_k\u001b[0m\u001b[0;34m)\u001b[0m\u001b[0;34m\u001b[0m\u001b[0;34m\u001b[0m\u001b[0m\n\u001b[1;32m     33\u001b[0m \u001b[0;34m\u001b[0m\u001b[0m\n\u001b[0;32m---> 34\u001b[0;31m \u001b[0maccuracy_knn\u001b[0m \u001b[0;34m=\u001b[0m \u001b[0mrun_evaluation\u001b[0m\u001b[0;34m(\u001b[0m\u001b[0mkNN_model\u001b[0m\u001b[0;34m,\u001b[0m \u001b[0mtraining_img_vectors\u001b[0m\u001b[0;34m,\u001b[0m \u001b[0mtraining_label\u001b[0m\u001b[0;34m,\u001b[0m \u001b[0mtest_img_vectors\u001b[0m\u001b[0;34m,\u001b[0m \u001b[0mtest_label\u001b[0m\u001b[0;34m)\u001b[0m\u001b[0;34m\u001b[0m\u001b[0;34m\u001b[0m\u001b[0m\n\u001b[0m",
      "\u001b[0;32m<ipython-input-246-295b69bef4c1>\u001b[0m in \u001b[0;36mrun_evaluation\u001b[0;34m(model_to_use, training_X, training_y, test_X, test_y)\u001b[0m\n\u001b[1;32m     14\u001b[0m         \u001b[0;32mfor\u001b[0m \u001b[0mtest_idx\u001b[0m \u001b[0;32min\u001b[0m \u001b[0mrange\u001b[0m\u001b[0;34m(\u001b[0m\u001b[0;36m0\u001b[0m\u001b[0;34m,\u001b[0m \u001b[0mint\u001b[0m\u001b[0;34m(\u001b[0m\u001b[0mn_test\u001b[0m\u001b[0;34m)\u001b[0m\u001b[0;34m)\u001b[0m\u001b[0;34m:\u001b[0m\u001b[0;34m\u001b[0m\u001b[0;34m\u001b[0m\u001b[0m\n\u001b[1;32m     15\u001b[0m \u001b[0;34m\u001b[0m\u001b[0m\n\u001b[0;32m---> 16\u001b[0;31m             \u001b[0mprediction\u001b[0m \u001b[0;34m=\u001b[0m \u001b[0mmodel\u001b[0m\u001b[0;34m.\u001b[0m\u001b[0mpredict\u001b[0m\u001b[0;34m(\u001b[0m\u001b[0;34m[\u001b[0m\u001b[0mtest_X\u001b[0m\u001b[0;34m[\u001b[0m\u001b[0mtest_idx\u001b[0m\u001b[0;34m]\u001b[0m\u001b[0;34m]\u001b[0m\u001b[0;34m)\u001b[0m\u001b[0;34m[\u001b[0m\u001b[0;36m0\u001b[0m\u001b[0;34m]\u001b[0m\u001b[0;34m\u001b[0m\u001b[0;34m\u001b[0m\u001b[0m\n\u001b[0m\u001b[1;32m     17\u001b[0m             \u001b[0mtrue_prediction\u001b[0m \u001b[0;34m=\u001b[0m \u001b[0mtest_y\u001b[0m\u001b[0;34m[\u001b[0m\u001b[0mtest_idx\u001b[0m\u001b[0;34m]\u001b[0m\u001b[0;34m\u001b[0m\u001b[0;34m\u001b[0m\u001b[0m\n\u001b[1;32m     18\u001b[0m             \u001b[0;32mif\u001b[0m \u001b[0mprediction\u001b[0m \u001b[0;34m==\u001b[0m \u001b[0mtrue_prediction\u001b[0m\u001b[0;34m:\u001b[0m\u001b[0;34m\u001b[0m\u001b[0;34m\u001b[0m\u001b[0m\n",
      "\u001b[0;32m<ipython-input-245-02ba12dd6aba>\u001b[0m in \u001b[0;36mpredict\u001b[0;34m(self, data_x)\u001b[0m\n\u001b[1;32m     17\u001b[0m         \u001b[0mprediction\u001b[0m \u001b[0;34m=\u001b[0m \u001b[0;34m[\u001b[0m\u001b[0;34m]\u001b[0m\u001b[0;34m\u001b[0m\u001b[0;34m\u001b[0m\u001b[0m\n\u001b[1;32m     18\u001b[0m         \u001b[0;32mfor\u001b[0m \u001b[0mdata_point\u001b[0m \u001b[0;32min\u001b[0m \u001b[0mdata_x\u001b[0m\u001b[0;34m:\u001b[0m\u001b[0;34m\u001b[0m\u001b[0;34m\u001b[0m\u001b[0m\n\u001b[0;32m---> 19\u001b[0;31m             \u001b[0mprediction\u001b[0m\u001b[0;34m.\u001b[0m\u001b[0mappend\u001b[0m\u001b[0;34m(\u001b[0m\u001b[0mself\u001b[0m\u001b[0;34m.\u001b[0m\u001b[0mpredict_each\u001b[0m\u001b[0;34m(\u001b[0m\u001b[0mdata_point\u001b[0m\u001b[0;34m)\u001b[0m\u001b[0;34m)\u001b[0m\u001b[0;34m\u001b[0m\u001b[0;34m\u001b[0m\u001b[0m\n\u001b[0m\u001b[1;32m     20\u001b[0m         \u001b[0;32mreturn\u001b[0m \u001b[0mprediction\u001b[0m\u001b[0;34m\u001b[0m\u001b[0;34m\u001b[0m\u001b[0m\n\u001b[1;32m     21\u001b[0m \u001b[0;34m\u001b[0m\u001b[0m\n",
      "\u001b[0;32m<ipython-input-245-02ba12dd6aba>\u001b[0m in \u001b[0;36mpredict_each\u001b[0;34m(self, data_x)\u001b[0m\n\u001b[1;32m     21\u001b[0m \u001b[0;34m\u001b[0m\u001b[0m\n\u001b[1;32m     22\u001b[0m     \u001b[0;32mdef\u001b[0m \u001b[0mpredict_each\u001b[0m\u001b[0;34m(\u001b[0m\u001b[0mself\u001b[0m\u001b[0;34m,\u001b[0m \u001b[0mdata_x\u001b[0m\u001b[0;34m)\u001b[0m\u001b[0;34m:\u001b[0m\u001b[0;34m\u001b[0m\u001b[0;34m\u001b[0m\u001b[0m\n\u001b[0;32m---> 23\u001b[0;31m         \u001b[0mneighbor_idx\u001b[0m\u001b[0;34m,\u001b[0m \u001b[0m_\u001b[0m \u001b[0;34m=\u001b[0m \u001b[0mself\u001b[0m\u001b[0;34m.\u001b[0m\u001b[0mk_neighbors\u001b[0m\u001b[0;34m(\u001b[0m\u001b[0mdata_x\u001b[0m\u001b[0;34m)\u001b[0m\u001b[0;34m\u001b[0m\u001b[0;34m\u001b[0m\u001b[0m\n\u001b[0m\u001b[1;32m     24\u001b[0m \u001b[0;34m\u001b[0m\u001b[0m\n\u001b[1;32m     25\u001b[0m         \u001b[0;31m# use the selected neighbors to get the prediction\u001b[0m\u001b[0;34m\u001b[0m\u001b[0;34m\u001b[0m\u001b[0;34m\u001b[0m\u001b[0m\n",
      "\u001b[0;32m<ipython-input-245-02ba12dd6aba>\u001b[0m in \u001b[0;36mk_neighbors\u001b[0;34m(self, data_x)\u001b[0m\n\u001b[1;32m     46\u001b[0m \u001b[0;34m\u001b[0m\u001b[0m\n\u001b[1;32m     47\u001b[0m             \u001b[0;32mfor\u001b[0m \u001b[0mx_i\u001b[0m\u001b[0;34m,\u001b[0m \u001b[0mx\u001b[0m \u001b[0;32min\u001b[0m \u001b[0menumerate\u001b[0m\u001b[0;34m(\u001b[0m\u001b[0mself\u001b[0m\u001b[0;34m.\u001b[0m\u001b[0mX\u001b[0m\u001b[0;34m)\u001b[0m\u001b[0;34m:\u001b[0m\u001b[0;34m\u001b[0m\u001b[0;34m\u001b[0m\u001b[0m\n\u001b[0;32m---> 48\u001b[0;31m                 \u001b[0;32mif\u001b[0m \u001b[0mis_selected\u001b[0m\u001b[0;34m[\u001b[0m\u001b[0mx_i\u001b[0m\u001b[0;34m]\u001b[0m \u001b[0;34m==\u001b[0m \u001b[0;36m1\u001b[0m\u001b[0;34m:\u001b[0m\u001b[0;34m\u001b[0m\u001b[0;34m\u001b[0m\u001b[0m\n\u001b[0m\u001b[1;32m     49\u001b[0m                     \u001b[0;32mcontinue\u001b[0m\u001b[0;34m\u001b[0m\u001b[0;34m\u001b[0m\u001b[0m\n\u001b[1;32m     50\u001b[0m \u001b[0;34m\u001b[0m\u001b[0m\n",
      "\u001b[0;31mKeyboardInterrupt\u001b[0m: "
     ]
    }
   ],
   "source": [
    "def run_evaluation(model_to_use, training_X, training_y, test_X, test_y):\n",
    "    k_list = [1, 3, 5, 10, 20, 30, 40, 50, 60]\n",
    "    accuracy = []\n",
    "    n_test = float(test_y.shape[0])\n",
    "    \n",
    "    for k in k_list:\n",
    "        model = model_to_use(n_neighbors=k)\n",
    "        model.fit(training_X, training_y)\n",
    "        \n",
    "        n_correct = 0\n",
    "        for test_idx in range(0, int(n_test)):\n",
    "            \n",
    "            prediction = model.predict([test_X[test_idx]])[0]\n",
    "            true_prediction = test_y[test_idx]\n",
    "            if prediction == true_prediction:\n",
    "                n_correct += 1\n",
    "            \n",
    "            log_str = '\\rk: %d, test data: %d/%d, prediction: %d, true prediction: %d, current accuray: %f' % (k, test_idx, n_test-1, prediction, true_prediction, float(n_correct/(test_idx+1)))\n",
    "            sys.stdout.write(log_str)\n",
    "            sys.stdout.flush()\n",
    "            \n",
    "        accuracy_k = n_correct/n_test\n",
    "        print('\\nk: ', k, ', accuracy: ', accuracy_k)\n",
    "        accuracy.append(accuracy_k)\n",
    "        \n",
    "        return accuracy\n",
    "\n",
    "accuracy_knn = run_evaluation(kNN_model, training_img_vectors, training_label, test_img_vectors, test_label)"
   ]
  },
  {
   "cell_type": "markdown",
   "metadata": {},
   "source": [
    "## Compare to the kNN in skkearn"
   ]
  },
  {
   "cell_type": "code",
   "execution_count": 243,
   "metadata": {},
   "outputs": [
    {
     "name": "stdout",
     "output_type": "stream",
     "text": [
      "sk:  2942.7641767562686\n",
      "float64\n",
      "float64\n",
      "a: 2942.7641767562686\n",
      "b: 2942.7641767562686\n",
      "c: 2942.7641767562686\n",
      "(784,)\n",
      "2\n",
      "(784,)\n",
      "0\n"
     ]
    }
   ],
   "source": [
    "accuracy_knn_sklearn = run_evaluation(KNeighborsClassifier, training_img_vectors, training_label, test_img_vectors, test_label)"
   ]
  },
  {
   "cell_type": "code",
   "execution_count": null,
   "metadata": {},
   "outputs": [],
   "source": []
  }
 ],
 "metadata": {
  "kernelspec": {
   "display_name": "Python 3",
   "language": "python",
   "name": "python3"
  },
  "language_info": {
   "codemirror_mode": {
    "name": "ipython",
    "version": 3
   },
   "file_extension": ".py",
   "mimetype": "text/x-python",
   "name": "python",
   "nbconvert_exporter": "python",
   "pygments_lexer": "ipython3",
   "version": "3.7.3"
  }
 },
 "nbformat": 4,
 "nbformat_minor": 2
}
