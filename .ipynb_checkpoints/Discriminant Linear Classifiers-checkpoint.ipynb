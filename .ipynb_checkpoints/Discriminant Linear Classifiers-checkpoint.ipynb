{
 "cells": [
  {
   "cell_type": "markdown",
   "metadata": {},
   "source": [
    "# Problem\n",
    "\n",
    "You are given a training data set $\\{x_n , t_n \\}$ of size N = 21. Each input vector $x_n$ is a point in the 2-dimensional Euclidean space $R^2$ . We have $x_1 = (0, 0), x_2 = (1, 0), x_3 = (2, 0), x_4 = (0, 1), x_5 = (1, 1), x_6 = (2, 1), x_7 = (3, 1), x_8 = (4, 1), x_9 = (5, 1), x_{10} = (100, 1), x_{11} = (0, 2), x_{12} = (1, 2), x_{13} = (2, 2), x_{14} = (3, 2), x_{15} = (4, 2), x_{16} = (5, 2), x_{17} = (100, 2), x_{18} = (3, 3), x_{19} = (4, 3), x_{20} = (5, 3), x_{21} = (100, 3)$\n",
    "\n",
    "There are two target classes C1 and C2. For each point $x_n$ in the training set, $x_n$ belongs to C1 if its second coordinate is less than or equal to 2, and belongs to C2 otherwise. If $x_n \\in C1$, we have $t_n = 1$. If $x_n \\in C2$, we have $t_n = 0$ in the questions regarding least squares linear discriminant and Fisher's linear discriminant, and have $t_n = -1$ in the question on the perceptron algorithm"
   ]
  },
  {
   "cell_type": "markdown",
   "metadata": {},
   "source": [
    "## Load the dataset"
   ]
  },
  {
   "cell_type": "code",
   "execution_count": 2,
   "metadata": {},
   "outputs": [
    {
     "name": "stdout",
     "output_type": "stream",
     "text": [
      "Shape of traning data:  (21, 3)\n",
      "Shape of traning labels:  (21,)\n",
      "Shape of c1 data:  (17, 2)\n",
      "Shape of c2 data:  (4, 2)\n"
     ]
    }
   ],
   "source": [
    "import numpy as np\n",
    "from sklearn import preprocessing\n",
    "import random\n",
    "\n",
    "def x2lable(x, is_for_perceptron=False):\n",
    "    \"\"\"will return a list of (x, t)\"\"\"\n",
    "    t_data = []\n",
    "    for item in x:\n",
    "        t = 1\n",
    "        if item[1] > 2:\n",
    "            if is_for_perceptron:\n",
    "                t = -1\n",
    "            else:\n",
    "                t = 0\n",
    "        t_data.append(t)\n",
    "    return np.array(t_data)\n",
    "\n",
    "def load_data():\n",
    "    x_train = np.array([[0,0],[1,0],[2,0],[0,1],[1,1],[2,1],[3,1],[4,1],[5,1],[100,1],[0,2],[1,2],[2,2],[3,2],[4,2],[5,2],[100,2],[3,3],[4,3],[5,3],[100,3]])\n",
    "    \n",
    "    n_data = x_train.shape[0]\n",
    "    bias = np.ones((n_data, 1))\n",
    "    x_train_with_bias = np.append(bias, x_train, axis=1)\n",
    "    \n",
    "    c1_data = []\n",
    "    c2_data = []\n",
    "    \n",
    "    labels_square_fisher = x2lable(x_train, False)\n",
    "    labels_perceptron = x2lable(x_train, True)\n",
    "    for i in range(0, len(x_train)):\n",
    "        if labels_perceptron[i] == 1:\n",
    "            c1_data.append(x_train[i])\n",
    "        else:\n",
    "            c2_data.append(x_train[i])\n",
    "            \n",
    "    \n",
    "    return [[x_train_with_bias, labels_square_fisher], [x_train_with_bias, labels_perceptron], np.array(c1_data), np.array(c2_data)]\n",
    "\n",
    "data = load_data()\n",
    "least_squares_data = data[0]\n",
    "fisher_data = data[0]\n",
    "perceptron_data = data[1]\n",
    "c1_data = data[2]\n",
    "c2_data = data[3]\n",
    "\n",
    "print('Shape of traning data: ', data[0][0].shape)\n",
    "print('Shape of traning labels: ', data[0][1].shape)\n",
    "print('Shape of c1 data: ', c1_data.shape)\n",
    "print('Shape of c2 data: ', c2_data.shape)"
   ]
  },
  {
   "cell_type": "markdown",
   "metadata": {},
   "source": [
    "## Least-Square Linear Classifier\n",
    "Compute the least-square linear classifier based on the training data. You need to write out (a) the error function, (b) the computed parameters $(w_0 , w_1 , w_2)$, and (c) plot the classification together with the training data"
   ]
  },
  {
   "cell_type": "markdown",
   "metadata": {},
   "source": [
    "### Calcualte the weights\n",
    "\n",
    "In matrix form:\n",
    "$w = (X^T X)^{-1} X^T Y$"
   ]
  },
  {
   "cell_type": "code",
   "execution_count": 3,
   "metadata": {},
   "outputs": [
    {
     "name": "stdout",
     "output_type": "stream",
     "text": [
      "Shape of T matrix:  (21, 2)\n",
      "Shape of x_train_with_bias: (21, 3)\n",
      "Shape of y_train: (21,)\n",
      "Shape of weights: (3, 2)\n",
      "Learned weights: [[ 1.27964245e+00 -2.79642450e-01]\n",
      " [-2.05868000e-04  2.05868000e-04]\n",
      " [-2.97014152e-01  2.97014152e-01]]\n",
      "Prediction accuracy on training set: 100.00%\n"
     ]
    }
   ],
   "source": [
    "def w_calc_least_square(x_train_with_bias, y_train):\n",
    "    # generate the T matrix\n",
    "    T = np.zeros((x_train_with_bias.shape[0], 2))\n",
    "    for i in range(0, len(y_train)):\n",
    "        if y_train[i] == 1:\n",
    "            T[i][0] = 1\n",
    "        else:\n",
    "            T[i][1] = 1\n",
    "    # calculate the weights\n",
    "    weights = np.linalg.inv(np.dot(x_train_with_bias.T, x_train_with_bias))\n",
    "    weights = np.dot(np.dot(weights, x_train_with_bias.T), T)\n",
    "    \n",
    "    print('Shape of T matrix: ', T.shape)\n",
    "    print('Shape of x_train_with_bias:', x_train_with_bias.shape)\n",
    "    print('Shape of y_train:', y_train.shape)\n",
    "    print('Shape of weights:', weights.shape)\n",
    "    \n",
    "    return weights\n",
    "\n",
    "def solve_least_square():\n",
    "    x_train = least_squares_data[0]\n",
    "    y_train = least_squares_data[1]\n",
    " \n",
    "    weights = w_calc_least_square(x_train, y_train)\n",
    "    print('Learned weights:', weights)\n",
    "    \n",
    "    # test the accuracy\n",
    "    prediction =  np.dot(weights.T, x_train.T)\n",
    "    n_test = len(y_train)\n",
    "    n_correct = 0\n",
    "    for i in range(0, n_test):\n",
    "        t = 1\n",
    "        if prediction[0][i] < prediction[1][i]:\n",
    "            t = 0\n",
    "        if t == y_train[i]:\n",
    "            n_correct += 1\n",
    "    \n",
    "    print('Prediction accuracy on training set: %.2f%%' % (float(n_correct)/n_test*100))\n",
    "    return weights\n",
    "\n",
    "w_least_square = solve_least_square()"
   ]
  },
  {
   "cell_type": "markdown",
   "metadata": {},
   "source": [
    "#### We can also solve it using gradient descent"
   ]
  },
  {
   "cell_type": "code",
   "execution_count": 4,
   "metadata": {},
   "outputs": [
    {
     "name": "stdout",
     "output_type": "stream",
     "text": [
      "Learned weights of classifier 1: [ 1.23870348e+00 -1.94278070e-04 -2.76787444e-01]\n",
      "Final loss:  0.03668881434713212\n",
      "Learned weights of classifier 2: [-2.38707891e-01  1.94279319e-04  2.76789623e-01]\n",
      "Final loss:  0.03668876515148224\n"
     ]
    }
   ],
   "source": [
    "def loss_least_square(w, x, y):\n",
    "    n_data = len(x)\n",
    "    delta = y - np.dot(x, w)\n",
    "    return np.sum(np.square(delta))/(2*n_data)\n",
    "\n",
    "def w_calc_least_square_gradient(x_train_with_bias, y_train, epsilon = 0.0000001, learning_rate = 0.001):\n",
    "    n_data = x_train_with_bias.shape[0]\n",
    "    weights = np.zeros((3, ))\n",
    "    \n",
    "    i = 0\n",
    "    old_loss_value = 0\n",
    "    loss_value = 0\n",
    "    while i == 0 or abs(old_loss_value - loss_value) > epsilon:\n",
    "        \n",
    "        old_loss_value = loss_value\n",
    "        i+=1\n",
    "        if i == 1000000:\n",
    "            print('Fail to converge in %d iteration' % (i))\n",
    "            break\n",
    "        \n",
    "        delta = np.dot(x_train_with_bias, weights) - y_train\n",
    "        partial_derivative = (1.0/n_data)*np.dot(x_train_with_bias.T, delta)\n",
    "        # update weights\n",
    "        weights = weights - partial_derivative*learning_rate\n",
    "        \n",
    "        loss_value = loss_least_square(weights, x_train_with_bias, y_train)\n",
    "        \n",
    "    return weights\n",
    "\n",
    "def solve_least_square_gradient_descent():\n",
    "    x_train = least_squares_data[0]\n",
    "    y_train_c1 = least_squares_data[1]\n",
    "    # generate y_train_c1\n",
    "    y_train_c2 = np.zeros(y_train_c1.shape)\n",
    "    for i in range(0, len(y_train_c1)):\n",
    "        y_train_c2[i] = abs(y_train_c1[i] - 1)\n",
    "    \n",
    "    w_least_square_c1 = w_calc_least_square_gradient(x_train, y_train_c1)\n",
    "    print('Learned weights of classifier 1:', w_least_square_c1)\n",
    "    print('Final loss: ', loss_least_square(w_least_square_c1, x_train, y_train_c1))\n",
    "    \n",
    "    w_least_square_c2 = w_calc_least_square_gradient(x_train, y_train_c2)\n",
    "    print('Learned weights of classifier 2:', w_least_square_c2)\n",
    "    print('Final loss: ', loss_least_square(w_least_square_c2, x_train, y_train_c2))\n",
    "    \n",
    "    return (w_least_square_c1, w_least_square_c2)\n",
    "\n",
    "w_least_square_gradient_descent = solve_least_square_gradient_descent()"
   ]
  },
  {
   "cell_type": "markdown",
   "metadata": {},
   "source": [
    "### Visualize the Results (Least-Square)"
   ]
  },
  {
   "cell_type": "code",
   "execution_count": 5,
   "metadata": {},
   "outputs": [],
   "source": [
    "import matplotlib.pyplot as plt\n",
    "# visualize data points\n",
    "def visualize_data(x_data, y_data):\n",
    "    c1_data_index = []\n",
    "    c2_data_index = []\n",
    "    \n",
    "    for i in range(0, x_data.shape[0]):\n",
    "        if y_data[i] == 1:\n",
    "            c1_data_index.append(i)\n",
    "        else:\n",
    "            c2_data_index.append(i)\n",
    "    \n",
    "    # use red dot to represent C1\n",
    "    plt.plot([x_data[c1_data_index[i]][1] for i in range(0, len(c1_data_index))], [x_data[c1_data_index[i]][2] for i in range(0, len(c1_data_index))], 'rx')\n",
    "    \n",
    "    # use blue dot to represent C2\n",
    "    plt.plot([x_data[c2_data_index[i]][1] for i in range(0, len(c2_data_index))], [x_data[c2_data_index[i]][2] for i in range(0, len(c2_data_index))], 'bx')\n",
    "    \n",
    "    plt.xlabel('x0')\n",
    "    plt.ylabel('x1')"
   ]
  },
  {
   "cell_type": "code",
   "execution_count": 6,
   "metadata": {},
   "outputs": [
    {
     "data": {
      "image/png": "[encoded data removed]",
      "text/plain": [
       "<Figure size 432x288 with 1 Axes>"
      ]
     },
     "metadata": {
      "needs_background": "light"
     },
     "output_type": "display_data"
    }
   ],
   "source": [
    "def visual_bound_least_square_per_w(weights, x0_min=0, x0_max=100, color='r', label='decision boundary'):\n",
    "    \"\"\"visualize the weights by w0 + w1*x0 + w2*x1 = 0.5\"\"\"\n",
    "    w0 = weights[0]\n",
    "    w1 = weights[1]\n",
    "    w2 = weights[2]\n",
    "    \n",
    "    # since w0 + w1*x0 + w2*x1 = 0.5, we have x1 = (-w1/w2)*x0 + (0.5-w0)/w2\n",
    "    x10 = (-w1/w2)*x0_min + (0.5-w0)/w2\n",
    "    x11 = (-w1/w2)*x0_max + (0.5-w0)/w2\n",
    "    plt.plot([x0_min, x0_max], [x10, x11], color, label=label) \n",
    "    plt.legend(bbox_to_anchor=(1.05, 1), loc='upper left', borderaxespad=0.)\n",
    "\n",
    "def visualize_decision_boundary_least_square(weights1, weights2, x0_min=0, x0_max=100, color='r', label='decision boundary', is_show_one_line=False):\n",
    "    w10 = weights1[0]\n",
    "    w11 = weights1[1]\n",
    "    w12 = weights1[2]\n",
    "    \n",
    "    w20 = weights2[0]\n",
    "    w21 = weights2[1]\n",
    "    w22 = weights2[2]\n",
    "    \n",
    "    if is_show_one_line:\n",
    "        # the decision boundary is where w10 + w11*x0 + w12*x1 = w20 + w21*x0 + w22*x1\n",
    "        # which satisfies x1 = (w21 - w11)/(w12 - w22)*x0 + (w20 - w10)/(w12 - w22)\n",
    "\n",
    "        x10 = (w21 - w11)/(w12 - w22)*x0_min + (w20 - w10)/(w12 - w22)\n",
    "        x11 = (w21 - w11)/(w12 - w22)*x0_max + (w20 - w10)/(w12 - w22)\n",
    "        plt.plot([x0_min, x0_max], [x10, x11], color, label=label) \n",
    "        plt.legend(bbox_to_anchor=(1.05, 1), loc='upper left', borderaxespad=0.)\n",
    "    else:\n",
    "        # show two line, each is visualized by w0 + w1*x0 + w2*x1 = 0.5\n",
    "        visual_bound_least_square_per_w(weights1, x0_min=0, x0_max=100, color='--r', label='decision boundary: class 1')\n",
    "        visual_bound_least_square_per_w(weights2, x0_min=0, x0_max=100, color=':b', label='decision boundary: class 2')\n",
    "    \n",
    "    \n",
    "def visualize_least_square():\n",
    "    visualize_data(least_squares_data[0], least_squares_data[1])\n",
    "    w1 = w_least_square.T[0]\n",
    "    w2 = w_least_square.T[1]\n",
    "    visualize_decision_boundary_least_square(w1, w2, color='g')\n",
    "    plt.title('Least-Square Linear Classifier')\n",
    "\n",
    "visualize_least_square()"
   ]
  },
  {
   "cell_type": "markdown",
   "metadata": {},
   "source": [
    "#### Results learned by gradient descent"
   ]
  },
  {
   "cell_type": "code",
   "execution_count": 7,
   "metadata": {},
   "outputs": [
    {
     "data": {
      "image/png": "[encoded data removed]",
      "text/plain": [
       "<Figure size 432x288 with 1 Axes>"
      ]
     },
     "metadata": {
      "needs_background": "light"
     },
     "output_type": "display_data"
    }
   ],
   "source": [
    "def visualize_least_square_gradient():\n",
    "    visualize_data(least_squares_data[0], least_squares_data[1])\n",
    "    w1 = w_least_square_gradient_descent[0]\n",
    "    w2 = w_least_square_gradient_descent[1]\n",
    "    visualize_decision_boundary_least_square(w1, w2, color='g')\n",
    "    plt.title('Least-Square Linear Classifier')\n",
    "    \n",
    "visualize_least_square_gradient()"
   ]
  },
  {
   "cell_type": "markdown",
   "metadata": {},
   "source": [
    "## Fisher's Linear Discriminate\n",
    "Compute the linear classifier based on the training data using Fisher's linear discriminant. You need to write out (a) the error function, (b) the computed parameters $(w_0 , w_1 , w_2)$, and (c) plot the classification together with the training data."
   ]
  },
  {
   "cell_type": "markdown",
   "metadata": {},
   "source": [
    "### Calcualte the weights\n",
    "- Fisher criterion: to maximize $J(w) = \\frac{w^{T}S_B w}{w^{T}S_w w}$\n",
    "- Fisher criterion is maximized when $(w^T S_B w)S_w w = (w^T S_w w)S_B w$\n",
    "- We need to find a normalized vector w, such that $w \\propto S^{-1}_w (m_2 - m_1)$, where m1 and m2 are the mean vectors of the two classes"
   ]
  },
  {
   "cell_type": "code",
   "execution_count": 8,
   "metadata": {},
   "outputs": [
    {
     "name": "stdout",
     "output_type": "stream",
     "text": [
      "m1 shape:  (2, 1) , m1:\n",
      " [[13.70588235]\n",
      " [ 1.23529412]]\n",
      "m2 shape:  (2, 1) , m2:\n",
      " [[28.]\n",
      " [ 3.]]\n",
      "Shape of S_w:  (2, 2)\n",
      "[[-1.34436264e-04 -1.93956675e-01]]\n",
      "Shape of weights:  (2,)\n",
      "Varince of C1 in the mapping space:  0.5380123251866185\n",
      "Varince of C2 in the mapping space:  0.0008304100254139823\n",
      "Learned weights:  [-6.93125058e-04 -9.99999760e-01] , learned w0:  [2.13210025]\n",
      "Prediction accuracy on training set: 100.00%\n"
     ]
    },
    {
     "data": {
      "image/png": "[encoded data removed]",
      "text/plain": [
       "<Figure size 432x288 with 1 Axes>"
      ]
     },
     "metadata": {
      "needs_background": "light"
     },
     "output_type": "display_data"
    }
   ],
   "source": [
    "def visualize_mapped_c1_c2(mapped_c1, mapped_c2, w0):\n",
    "    plt.hist(mapped_c1, bins='auto', label='class 1')\n",
    "    plt.hist(mapped_c2, bins='auto', label='class 2')\n",
    "    plt.plot([-w0, -w0], [0, 100], color='r', label='decision boundary')\n",
    "    plt.title('Histogram of C1 and C2 in the mapping space')\n",
    "    plt.legend(bbox_to_anchor=(1.05, 1), loc='upper left', borderaxespad=0.)\n",
    "    plt.ylim((0, 10))\n",
    "\n",
    "\n",
    "def w_calc_fisher(c1_train, c2_train):\n",
    "    dim = c1_train.shape[1]\n",
    "    \n",
    "    # calculate m1 and m2\n",
    "    m1 = np.average(c1_train, axis=0).reshape((dim, 1))\n",
    "    m2 = np.average(c2_train, axis=0).reshape((dim, 1))\n",
    "    \n",
    "    print('m1 shape: ', m1.shape, ', m1:\\n', m1)\n",
    "    print('m2 shape: ', m2.shape, ', m2:\\n', m2)\n",
    "    \n",
    "    # calculate S_w\n",
    "    S_w = np.zeros((dim, dim))\n",
    "    # sum up the covariance matrix of c1\n",
    "    for i in range(0, c1_train.shape[0]):\n",
    "        delta = c1_train[i].reshape((dim, 1)) - m1\n",
    "        S_w = S_w + np.dot(delta, delta.T)\n",
    "    # sum up the covariance matrix of c2\n",
    "    for i in range(0, c2_train.shape[0]):\n",
    "        delta = c2_train[i].reshape((dim, 1)) - m2\n",
    "        S_w = S_w + np.dot(delta, delta.T)\n",
    "    print('Shape of S_w: ', S_w.shape)\n",
    "    \n",
    "    # calcaulate the weights\n",
    "    weights = np.dot(np.linalg.inv(S_w), m1-m2).T\n",
    "    print(weights)\n",
    "    weights = (weights / np.linalg.norm(weights)).reshape((dim, ))\n",
    "    print('Shape of weights: ', weights.shape)\n",
    "    \n",
    "    # compute the w0 by computing the mean vector of the mapped m1 and mapped m2\n",
    "    m1_map = np.dot(m1.T, weights)\n",
    "    m2_map = np.dot(m2.T, weights)\n",
    "    c1_map = np.dot(c1_train, weights)\n",
    "    c2_map = np.dot(c2_train, weights)\n",
    "    \n",
    "    c1_var = np.var(c1_map)\n",
    "    print('Varince of C1 in the mapping space: ', c1_var)\n",
    "    c2_var = np.var(c2_map)\n",
    "    print('Varince of C2 in the mapping space: ', c2_var)\n",
    "    w0 = -(m2_map + (m1_map-m2_map)/2)\n",
    "    \n",
    "    # visualize the mapping space\n",
    "    visualize_mapped_c1_c2(c1_map, c2_map, w0)\n",
    "    \n",
    "    return (weights, w0)\n",
    "\n",
    "def solve_fisher():\n",
    "    c1_train = c1_data\n",
    "    c2_train = c2_data\n",
    " \n",
    "    weights, w0 = w_calc_fisher(c1_train, c2_train)\n",
    "    print('Learned weights: ', weights, ', learned w0: ', w0)\n",
    "    \n",
    "    # test the accuracy\n",
    "    n_test = len(c1_train) + len(c2_train)\n",
    "    n_correct = 0\n",
    "    prediction =  np.dot(c1_train, weights)\n",
    "    for i in range(0, len(prediction)):\n",
    "        if prediction[i] >= -w0:\n",
    "            n_correct += 1\n",
    "    \n",
    "    prediction =  np.dot(c2_train, weights)\n",
    "    for i in range(0, len(prediction)):\n",
    "        if prediction[i] < -w0:\n",
    "            n_correct += 1\n",
    "            \n",
    "    print('Prediction accuracy on training set: %.2f%%' % (float(n_correct)/n_test*100))\n",
    "    \n",
    "    return weights, w0\n",
    "\n",
    "fisher_weights, fisher_w0 = solve_fisher()"
   ]
  },
  {
   "cell_type": "markdown",
   "metadata": {},
   "source": [
    "### Visualize the Results (Fisher)"
   ]
  },
  {
   "cell_type": "code",
   "execution_count": 9,
   "metadata": {},
   "outputs": [
    {
     "data": {
      "image/png": "[encoded data removed]",
      "text/plain": [
       "<Figure size 432x288 with 1 Axes>"
      ]
     },
     "metadata": {
      "needs_background": "light"
     },
     "output_type": "display_data"
    }
   ],
   "source": [
    "def visualize_fisher_boundry(fisher_w, x0_min=0, x0_max=100, color='r', label='projection line'):\n",
    "    x10 = (fisher_w[1]/fisher_w[0])*x0_min\n",
    "    x11 = (fisher_w[1]/fisher_w[0])*x0_max\n",
    "    \n",
    "    plt.plot([x0_min, x0_max], [x10, x11], color, label=label) \n",
    "    plt.legend(bbox_to_anchor=(1.05, 1), loc='upper left', borderaxespad=0.)\n",
    "    plt.ylim((0,5))\n",
    "    \n",
    "def visualize_fisher():\n",
    "    visualize_data(fisher_data[0], fisher_data[1])\n",
    "    visualize_fisher_boundry(fisher_weights, color='g')\n",
    "    \n",
    "    # visualize m1 and m2\n",
    "    dim = c1_data.shape[1]\n",
    "    m1 = np.average(c1_data, axis=0).reshape((dim, ))\n",
    "    plt.plot([m1[0]], [m1[1]], 'mo', label='m1')\n",
    "    plt.legend(bbox_to_anchor=(1.05, 1), loc='upper left', borderaxespad=0.)\n",
    "    \n",
    "    m2 = np.average(c2_data, axis=0).reshape((dim, ))\n",
    "    plt.plot([m2[0]], [m2[1]], 'co', label='m2')\n",
    "    plt.legend(bbox_to_anchor=(1.05, 1), loc='upper left', borderaxespad=0.)\n",
    "    \n",
    "    plt.title('Fisher\\'s Linear Classifier')\n",
    "\n",
    "visualize_fisher()"
   ]
  },
  {
   "cell_type": "markdown",
   "metadata": {},
   "source": [
    "## Perceptron Algorithm\n",
    "\n",
    "Compute the linear classifier based on the training data using the perceptron algorithm, starting with the initial parameter ($w_0 , w_1 , w_2$) = (1.5, 0, 0). For each iteration, you need to specify (a) the iteration number, (b) the current parameters, (c) the misclassified input x_n used in that particular iteration of stochastic gradient descent, and (d) the\n",
    "updating vector. When the algorithm converges, plot the classification together with the training data."
   ]
  },
  {
   "cell_type": "markdown",
   "metadata": {},
   "source": [
    "### Calcualte the weights\n",
    "- Minimize the error function (Perceptron Criterion): $E_P(w) = \\sum_{n \\in M}{w^T \\phi_n t_n}$\n",
    "- x in C1 if $w^T\\phi(x) > 0$, and in C2 otherwise \n",
    "- Use stochastic gradient descent algorithm: $w^{(t+1)}=w^{(t)} - \\eta\\nabla E_p(w) = w^{(t)} + \\eta \\phi_n t_n$\n",
    "- If the pattern is correctly classified, then the weight vector remains unchanged, whereas if it is incorrectly classified, then for class C1 we add the vector $\\phi(x_n)$ onto the current estimate of weight vector w while for class C2 we subtract the vector $\\phi(x_n)$ from w."
   ]
  },
  {
   "cell_type": "code",
   "execution_count": 10,
   "metadata": {},
   "outputs": [
    {
     "name": "stdout",
     "output_type": "stream",
     "text": [
      "\n",
      "Learned weights:  [ 391.5    0.  -185. ]\n"
     ]
    }
   ],
   "source": [
    "def w_calc_perceptron(x_train_with_bias, y_train, learning_rate = 1, verbose=False):\n",
    "    dim = x_train_with_bias.shape[1]\n",
    "    n_data = x_train_with_bias.shape[0]\n",
    "    weights = np.array([1.5, 0, 0])\n",
    "    \n",
    "    is_converged = False\n",
    "    i = 0\n",
    "    while i < 1000000 and not is_converged:\n",
    "        \n",
    "        if verbose:\n",
    "            print('\\nIteration: ', i+1)\n",
    "            print('Weights: ', weights)\n",
    "            i += 1\n",
    "        \n",
    "        is_converged = True\n",
    "        misclassified_data = []\n",
    "        misclassified_label = []\n",
    "        \n",
    "        # test if converged\n",
    "        for j in range(0, n_data):\n",
    "            input_data = x_train_with_bias[j]\n",
    "            if np.dot(input_data, weights)*y_train[j] < 0:\n",
    "                is_converged = False\n",
    "                misclassified_data.append(input_data)\n",
    "                misclassified_label.append(y_train[j])\n",
    "                \n",
    "        # do stochastic gradient descent using a random misclassified data\n",
    "        if len(misclassified_label) > 0:\n",
    "            selected_index = random.randint(0, len(misclassified_label)-1) \n",
    "            selected_data = misclassified_data[selected_index]\n",
    "            selected_label = misclassified_label[selected_index]\n",
    "            weights = weights + learning_rate*selected_label*selected_data\n",
    "            \n",
    "            if verbose:\n",
    "                print('Learning rate: ', learning_rate)\n",
    "                print('Misclassified input: ', selected_data)\n",
    "                print('Updated weights: ', weights)\n",
    "    \n",
    "    return weights\n",
    "\n",
    "def solve_perceptron():\n",
    "    x_train_with_bias = perceptron_data[0]\n",
    "    y_train = perceptron_data[1]\n",
    "    \n",
    "    perceptron_weights = w_calc_perceptron(x_train_with_bias, y_train)\n",
    "    print('\\nLearned weights: ', perceptron_weights)\n",
    "    return perceptron_weights\n",
    "    \n",
    "perceptron_weights = solve_perceptron()\n",
    "    "
   ]
  },
  {
   "cell_type": "markdown",
   "metadata": {},
   "source": [
    "### Visualize the Results (Perceptron)"
   ]
  },
  {
   "cell_type": "code",
   "execution_count": 11,
   "metadata": {},
   "outputs": [
    {
     "data": {
      "image/png": "[encoded data removed]",
      "text/plain": [
       "<Figure size 432x288 with 1 Axes>"
      ]
     },
     "metadata": {
      "needs_background": "light"
     },
     "output_type": "display_data"
    }
   ],
   "source": [
    "def visualize_perceptron_boundry(perceptron_weights, x0_min=0, x0_max=100, color='r', label='decision boundary'):\n",
    "    # the decision boundary is w0 + w1*x0 + w2*x1 = 0\n",
    "    # that is x1 = (-w1/w2)*x0 + (-w0/w2)\n",
    "    x10 = (-perceptron_weights[1]/perceptron_weights[2])*x0_min + (-perceptron_weights[0]/perceptron_weights[2])\n",
    "    x11 = (-perceptron_weights[1]/perceptron_weights[2])*x0_max + (-perceptron_weights[0]/perceptron_weights[2])\n",
    "    \n",
    "    plt.plot([x0_min, x0_max], [x10, x11], color, label=label) \n",
    "    plt.legend(bbox_to_anchor=(1.05, 1), loc='upper left', borderaxespad=0.)\n",
    "    plt.ylim((0,5))\n",
    "\n",
    "def visualize_perceptron():\n",
    "    visualize_data(perceptron_data[0], perceptron_data[1])\n",
    "    visualize_perceptron_boundry(perceptron_weights, color='g')\n",
    "    plt.title('Perceptron Classifier')\n",
    "    \n",
    "visualize_perceptron()"
   ]
  },
  {
   "cell_type": "code",
   "execution_count": null,
   "metadata": {},
   "outputs": [],
   "source": []
  }
 ],
 "metadata": {
  "kernelspec": {
   "display_name": "Python 3",
   "language": "python",
   "name": "python3"
  },
  "language_info": {
   "codemirror_mode": {
    "name": "ipython",
    "version": 3
   },
   "file_extension": ".py",
   "mimetype": "text/x-python",
   "name": "python",
   "nbconvert_exporter": "python",
   "pygments_lexer": "ipython3",
   "version": "3.7.3"
  }
 },
 "nbformat": 4,
 "nbformat_minor": 2
}
