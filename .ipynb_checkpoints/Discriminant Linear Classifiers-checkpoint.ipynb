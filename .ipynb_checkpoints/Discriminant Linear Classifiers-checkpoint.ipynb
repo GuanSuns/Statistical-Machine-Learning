{
 "cells": [
  {
   "cell_type": "markdown",
   "metadata": {},
   "source": [
    "# Problem\n",
    "\n",
    "You are given a training data set $\\{x_n , t_n \\}$ of size N = 21. Each input vector $x_n$ is a point in the 2-dimensional Euclidean space $R^2$ . We have $x_1 = (0, 0), x_2 = (1, 0), x_3 = (2, 0), x_4 = (0, 1), x_5 = (1, 1), x_6 = (2, 1), x_7 = (3, 1), x_8 = (4, 1), x_9 = (5, 1), x_{10} = (100, 1), x_{11} = (0, 2), x_{12} = (1, 2), x_{13} = (2, 2), x_{14} = (3, 2), x_{15} = (4, 2), x_{16} = (5, 2), x_{17} = (100, 2), x_{18} = (3, 3), x_{19} = (4, 3), x_{20} = (5, 3), x_{21} = (100, 3)$\n",
    "\n",
    "There are two target classes C1 and C2. For each point $x_n$ in the training set, $x_n$ belongs to C1 if its second coordinate is less than or equal to 2, and belongs to C2 otherwise. If $x_n \\in C1$, we have $t_n = 1$. If $x_n \\in C2$, we have $t_n = 0$ in the questions regarding least squares linear discriminant and Fisher's linear discriminant, and have $t_n = -1$ in the question on the perceptron algorithm"
   ]
  },
  {
   "cell_type": "markdown",
   "metadata": {},
   "source": [
    "## Load the dataset"
   ]
  },
  {
   "cell_type": "code",
   "execution_count": 154,
   "metadata": {},
   "outputs": [
    {
     "name": "stdout",
     "output_type": "stream",
     "text": [
      "Shape of traning data:  (21, 3)\n",
      "Shape of traning labels:  (21,)\n",
      "Shape of c1 data:  (17, 2)\n",
      "Shape of c2 data:  (4, 2)\n"
     ]
    }
   ],
   "source": [
    "import numpy as np\n",
    "\n",
    "def x2lable(x, is_for_perceptron=False):\n",
    "    \"\"\"will return a list of (x, t)\"\"\"\n",
    "    t_data = []\n",
    "    for item in x:\n",
    "        t = 1\n",
    "        if item[1] > 2:\n",
    "            if is_for_perceptron:\n",
    "                t = -1\n",
    "            else:\n",
    "                t = 0\n",
    "        t_data.append(t)\n",
    "    return np.array(t_data)\n",
    "\n",
    "def load_data():\n",
    "    x_train = np.array([[0,0],[1,0],[2,0],[0,1],[1,1],[2,1],[3,1],[4,1],[5,1],[100,1],[0,2],[1,2],[2,2],[3,2],[4,2],[5,2],[100,2],[3,3],[4,3],[5,3],[100,3]])\n",
    "    n_data = x_train.shape[0]\n",
    "    bias = np.ones((n_data, 1))\n",
    "    x_train_with_bias = np.append(bias, x_train, axis=1)\n",
    "    \n",
    "    c1_data = []\n",
    "    c2_data = []\n",
    "    \n",
    "    labels_square_fisher = x2lable(x_train, False)\n",
    "    labels_perceptron = x2lable(x_train, True)\n",
    "    for i in range(0, len(x_train)):\n",
    "        if labels_perceptron[i] == 1:\n",
    "            c1_data.append(x_train[i])\n",
    "        else:\n",
    "            c2_data.append(x_train[i])\n",
    "            \n",
    "    \n",
    "    return [[x_train_with_bias, labels_square_fisher], [x_train_with_bias, labels_perceptron], np.array(c1_data), np.array(c2_data)]\n",
    "\n",
    "data = load_data()\n",
    "least_squares_data = data[0]\n",
    "fisher_data = data[0]\n",
    "perceptron_data = data[1]\n",
    "c1_data = data[2]\n",
    "c2_data = data[3]\n",
    "\n",
    "print('Shape of traning data: ', data[0][0].shape)\n",
    "print('Shape of traning labels: ', data[0][1].shape)\n",
    "print('Shape of c1 data: ', c1_data.shape)\n",
    "print('Shape of c2 data: ', c2_data.shape)"
   ]
  },
  {
   "cell_type": "markdown",
   "metadata": {},
   "source": [
    "## Least-Square Linear Classifier\n",
    "Compute the least-square linear classifier based on the training data. You need to write out (a) the error function, (b) the computed parameters $(w_0 , w_1 , w_2)$, and (c) plot the classification together with the training data"
   ]
  },
  {
   "cell_type": "markdown",
   "metadata": {},
   "source": [
    "### Calcualte the weights\n",
    "\n",
    "In matrix form:\n",
    "$w = (X^T X)^{-1} X^T Y$"
   ]
  },
  {
   "cell_type": "code",
   "execution_count": 157,
   "metadata": {},
   "outputs": [
    {
     "name": "stdout",
     "output_type": "stream",
     "text": [
      "Shape of T matrix:  (21, 2)\n",
      "Shape of x_train_with_bias: (21, 3)\n",
      "Shape of y_train: (21,)\n",
      "Shape of weights: (3, 2)\n",
      "Learned weights: [[ 1.27964245e+00 -2.79642450e-01]\n",
      " [-2.05868000e-04  2.05868000e-04]\n",
      " [-2.97014152e-01  2.97014152e-01]]\n",
      "Prediction accuracy on training set: 100.00%\n"
     ]
    }
   ],
   "source": [
    "def w_calc_least_square(x_train_with_bias, y_train):\n",
    "    # generate the T matrix\n",
    "    T = np.zeros((x_train_with_bias.shape[0], 2))\n",
    "    for i in range(0, len(y_train)):\n",
    "        if y_train[i] == 1:\n",
    "            T[i][0] = 1\n",
    "        else:\n",
    "            T[i][1] = 1\n",
    "    # calculate the weights\n",
    "    weights = np.linalg.inv(np.dot(x_train_with_bias.T, x_train_with_bias))\n",
    "    weights = np.dot(np.dot(weights, x_train_with_bias.T), T)\n",
    "    \n",
    "    print('Shape of T matrix: ', T.shape)\n",
    "    print('Shape of x_train_with_bias:', x_train_with_bias.shape)\n",
    "    print('Shape of y_train:', y_train.shape)\n",
    "    print('Shape of weights:', weights.shape)\n",
    "    \n",
    "    return weights\n",
    "\n",
    "def solve_least_square():\n",
    "    x_train = least_squares_data[0]\n",
    "    y_train = least_squares_data[1]\n",
    " \n",
    "    weights = w_calc_least_square(x_train, y_train)\n",
    "    print('Learned weights:', weights)\n",
    "    \n",
    "    # test the accuracy\n",
    "    prediction =  np.dot(weights.T, x_train.T)\n",
    "    n_test = len(y_train)\n",
    "    n_correct = 0\n",
    "    for i in range(0, n_test):\n",
    "        t = 1\n",
    "        if prediction[0][i] < prediction[1][i]:\n",
    "            t = 0\n",
    "        if t == y_train[i]:\n",
    "            n_correct += 1\n",
    "    \n",
    "    print('Prediction accuracy on training set: %.2f%%' % (float(n_correct)/n_test*100))\n",
    "    return weights\n",
    "\n",
    "w_least_square = solve_least_square()"
   ]
  },
  {
   "cell_type": "markdown",
   "metadata": {},
   "source": [
    "#### We can also solve it using gradient descent"
   ]
  },
  {
   "cell_type": "code",
   "execution_count": 156,
   "metadata": {},
   "outputs": [
    {
     "name": "stdout",
     "output_type": "stream",
     "text": [
      "Learned weights of classifier 1: [ 1.23870348e+00 -1.94278070e-04 -2.76787444e-01]\n",
      "Final loss:  0.03668881434713212\n",
      "Learned weights of classifier 2: [-2.38707891e-01  1.94279319e-04  2.76789623e-01]\n",
      "Final loss:  0.036688765151482235\n"
     ]
    }
   ],
   "source": [
    "def loss_least_square(w, x, y):\n",
    "    n_data = len(x)\n",
    "    delta = y - np.dot(x, w)\n",
    "    return np.sum(np.square(delta))/(2*n_data)\n",
    "\n",
    "def w_calc_least_square_gradient(x_train_with_bias, y_train, epsilon = 0.0000001, learning_rate = 0.001):\n",
    "    n_data = x_train_with_bias.shape[0]\n",
    "    weights = np.zeros((3, ))\n",
    "    \n",
    "    i = 0\n",
    "    old_loss_value = 0\n",
    "    loss_value = 0\n",
    "    while i == 0 or abs(old_loss_value - loss_value) > epsilon:\n",
    "        \n",
    "        old_loss_value = loss_value\n",
    "        i+=1\n",
    "        if i == 1000000:\n",
    "            print('Fail to converge in %d iteration' % (i))\n",
    "            break\n",
    "        \n",
    "        delta = np.dot(x_train_with_bias, weights) - y_train\n",
    "        partial_derivative = (1.0/n_data)*np.dot(x_train_with_bias.T, delta)\n",
    "        # update weights\n",
    "        weights = weights - partial_derivative*learning_rate\n",
    "        \n",
    "        loss_value = loss_least_square(weights, x_train_with_bias, y_train)\n",
    "        \n",
    "    return weights\n",
    "\n",
    "def solve_least_square_gradient_descent():\n",
    "    x_train = least_squares_data[0]\n",
    "    y_train_c1 = least_squares_data[1]\n",
    "    # generate y_train_c1\n",
    "    y_train_c2 = np.zeros(y_train_c1.shape)\n",
    "    for i in range(0, len(y_train_c1)):\n",
    "        y_train_c2[i] = abs(y_train_c1[i] - 1)\n",
    "    \n",
    "    w_least_square_c1 = w_calc_least_square_gradient(x_train, y_train_c1)\n",
    "    print('Learned weights of classifier 1:', w_least_square_c1)\n",
    "    print('Final loss: ', loss_least_square(w_least_square_c1, x_train, y_train_c1))\n",
    "    \n",
    "    w_least_square_c2 = w_calc_least_square_gradient(x_train, y_train_c2)\n",
    "    print('Learned weights of classifier 2:', w_least_square_c2)\n",
    "    print('Final loss: ', loss_least_square(w_least_square_c2, x_train, y_train_c2))\n",
    "    \n",
    "    return (w_least_square_c1, w_least_square_c2)\n",
    "\n",
    "w_least_square_gradient_descent = solve_least_square_gradient_descent()"
   ]
  },
  {
   "cell_type": "markdown",
   "metadata": {},
   "source": [
    "### Visualize the Results (Least-Square)"
   ]
  },
  {
   "cell_type": "code",
   "execution_count": 160,
   "metadata": {},
   "outputs": [],
   "source": [
    "import matplotlib.pyplot as plt\n",
    "# visualize data points\n",
    "def visualize_data(x_data, y_data):\n",
    "    c1_data_index = []\n",
    "    c2_data_index = []\n",
    "    \n",
    "    for i in range(0, x_data.shape[0]):\n",
    "        if y_data[i] == 1:\n",
    "            c1_data_index.append(i)\n",
    "        else:\n",
    "            c2_data_index.append(i)\n",
    "    \n",
    "    # use red dot to represent C1\n",
    "    plt.plot([x_data[c1_data_index[i]][1] for i in range(0, len(c1_data_index))], [x_data[c1_data_index[i]][2] for i in range(0, len(c1_data_index))], 'rx')\n",
    "    \n",
    "    # use blue dot to represent C2\n",
    "    plt.plot([x_data[c2_data_index[i]][1] for i in range(0, len(c2_data_index))], [x_data[c2_data_index[i]][2] for i in range(0, len(c2_data_index))], 'bx')\n",
    "    \n",
    "    plt.xlabel('x0')\n",
    "    plt.ylabel('x1')"
   ]
  },
  {
   "cell_type": "code",
   "execution_count": 151,
   "metadata": {},
   "outputs": [
    {
     "data": {
      "image/png": "[encoded data removed]",
      "text/plain": [
       "<matplotlib.figure.Figure at 0x110cdaa90>"
      ]
     },
     "metadata": {},
     "output_type": "display_data"
    }
   ],
   "source": [
    "def visualize_decision_boundary_least_square(weights1, weights2, x0_min=0, x0_max=100, color='r', label='decision boundary'):\n",
    "    w10 = weights1[0]\n",
    "    w11 = weights1[1]\n",
    "    w12 = weights1[2]\n",
    "    \n",
    "    w20 = weights2[0]\n",
    "    w21 = weights2[1]\n",
    "    w22 = weights2[2]\n",
    "    \n",
    "    # the decision boundary is where w10 + w11*x0 + w12*x1 = w20 + w21*x0 + w22*x1\n",
    "    # which satisfies x1 = (w21 - w11)/(w12 - w22)*x0 + (w20 - w10)/(w12 - w22)\n",
    "    \n",
    "    x10 = (w21 - w11)/(w12 - w22)*x0_min + (w20 - w10)/(w12 - w22)\n",
    "    x11 = (w21 - w11)/(w12 - w22)*x0_max + (w20 - w10)/(w12 - w22)\n",
    "    plt.plot([x0_min, x0_max], [x10, x11], color, label=label) \n",
    "    plt.legend(bbox_to_anchor=(1.05, 1), loc='upper left', borderaxespad=0.)\n",
    "    \n",
    "def visualize_least_square():\n",
    "    visualize_data(least_squares_data[0], least_squares_data[1])\n",
    "    w1 = w_least_square.T[0]\n",
    "    w2 = w_least_square.T[1]\n",
    "    visualize_decision_boundary_least_square(w1, w2, color='g')\n",
    "    plt.title('Least-Square Linear Classifier')\n",
    "\n",
    "visualize_least_square()"
   ]
  },
  {
   "cell_type": "markdown",
   "metadata": {},
   "source": [
    "#### Results learned by gradient descent"
   ]
  },
  {
   "cell_type": "code",
   "execution_count": 161,
   "metadata": {},
   "outputs": [
    {
     "data": {
      "image/png": "[encoded data removed]",
      "text/plain": [
       "<matplotlib.figure.Figure at 0x110aaa668>"
      ]
     },
     "metadata": {},
     "output_type": "display_data"
    }
   ],
   "source": [
    "def visualize_least_square_gradient():\n",
    "    visualize_data(least_squares_data[0], least_squares_data[1])\n",
    "    w1 = w_least_square_gradient_descent[0]\n",
    "    w2 = w_least_square_gradient_descent[1]\n",
    "    visualize_decision_boundary_least_square(w1, w2, color='g')\n",
    "    plt.title('Least-Square Linear Classifier')\n",
    "    \n",
    "visualize_least_square_gradient()"
   ]
  },
  {
   "cell_type": "markdown",
   "metadata": {},
   "source": [
    "## Fisher's Linear Discriminate\n",
    "Compute the linear classifier based on the training data using Fisher's linear discriminant. You need to write out (a) the error function, (b) the computed parameters $(w_0 , w_1 , w_2)$, and (c) plot the classification together with the training data."
   ]
  },
  {
   "cell_type": "markdown",
   "metadata": {},
   "source": [
    "### Calcualte the weights\n",
    "- Fisher criterion: to maximize $J(w) = \\frac{w^{T}S_B w}{w^{T}S_w w}$\n",
    "- Fisher criterion is maximized when $(w^T S_B w)S_w w = (w^T S_w w)S_B w$\n",
    "- We need to find a normalized vector w, such that $w \\propto S^{-1}_w (m_2 - m_1)$, where m1 and m2 are the mean vectors of the two classes"
   ]
  },
  {
   "cell_type": "code",
   "execution_count": 163,
   "metadata": {},
   "outputs": [
    {
     "name": "stdout",
     "output_type": "stream",
     "text": [
      "Shape of m1:  (2,)\n",
      "Shape of m2:  (2,)\n",
      "Learned weights: None\n"
     ]
    },
    {
     "ename": "AttributeError",
     "evalue": "'NoneType' object has no attribute 'T'",
     "output_type": "error",
     "traceback": [
      "\u001b[0;31m---------------------------------------------------------------------------\u001b[0m",
      "\u001b[0;31mAttributeError\u001b[0m                            Traceback (most recent call last)",
      "\u001b[0;32m<ipython-input-163-fc33056443b5>\u001b[0m in \u001b[0;36m<module>\u001b[0;34m()\u001b[0m\n\u001b[1;32m     31\u001b[0m     \u001b[0;32mreturn\u001b[0m \u001b[0mweights\u001b[0m\u001b[0;34m\u001b[0m\u001b[0m\n\u001b[1;32m     32\u001b[0m \u001b[0;34m\u001b[0m\u001b[0m\n\u001b[0;32m---> 33\u001b[0;31m \u001b[0msolve_fisher\u001b[0m\u001b[0;34m(\u001b[0m\u001b[0;34m)\u001b[0m\u001b[0;34m\u001b[0m\u001b[0m\n\u001b[0m",
      "\u001b[0;32m<ipython-input-163-fc33056443b5>\u001b[0m in \u001b[0;36msolve_fisher\u001b[0;34m()\u001b[0m\n\u001b[1;32m     18\u001b[0m \u001b[0;34m\u001b[0m\u001b[0m\n\u001b[1;32m     19\u001b[0m     \u001b[0;31m# test the accuracy\u001b[0m\u001b[0;34m\u001b[0m\u001b[0;34m\u001b[0m\u001b[0m\n\u001b[0;32m---> 20\u001b[0;31m     \u001b[0mprediction\u001b[0m \u001b[0;34m=\u001b[0m  \u001b[0mnp\u001b[0m\u001b[0;34m.\u001b[0m\u001b[0mdot\u001b[0m\u001b[0;34m(\u001b[0m\u001b[0mweights\u001b[0m\u001b[0;34m.\u001b[0m\u001b[0mT\u001b[0m\u001b[0;34m,\u001b[0m \u001b[0mx_train\u001b[0m\u001b[0;34m.\u001b[0m\u001b[0mT\u001b[0m\u001b[0;34m)\u001b[0m\u001b[0;34m\u001b[0m\u001b[0m\n\u001b[0m\u001b[1;32m     21\u001b[0m     \u001b[0mn_test\u001b[0m \u001b[0;34m=\u001b[0m \u001b[0mlen\u001b[0m\u001b[0;34m(\u001b[0m\u001b[0my_train\u001b[0m\u001b[0;34m)\u001b[0m\u001b[0;34m\u001b[0m\u001b[0m\n\u001b[1;32m     22\u001b[0m     \u001b[0mn_correct\u001b[0m \u001b[0;34m=\u001b[0m \u001b[0;36m0\u001b[0m\u001b[0;34m\u001b[0m\u001b[0m\n",
      "\u001b[0;31mAttributeError\u001b[0m: 'NoneType' object has no attribute 'T'"
     ]
    }
   ],
   "source": [
    "def w_calc_fisher(c1_train, c2_train):\n",
    "    # calculate m1 and m2\n",
    "    m1 = np.average(c1_train, axis=0)\n",
    "    m2 = np.average(c2_train, axis=0)\n",
    "    \n",
    "    print('Shape of m1: ', m1.shape)\n",
    "    print('Shape of m2: ', m2.shape)\n",
    "    \n",
    "    # calculate S_w\n",
    "    S_w = \n",
    "\n",
    "def solve_fisher():\n",
    "    c1_train = c1_data\n",
    "    c2_train = c2_data\n",
    " \n",
    "    weights = w_calc_fisher(c1_train, c2_train)\n",
    "    print('Learned weights:', weights)\n",
    "    \n",
    "    # test the accuracy\n",
    "    prediction =  np.dot(weights.T, x_train.T)\n",
    "    n_test = len(y_train)\n",
    "    n_correct = 0\n",
    "    for i in range(0, n_test):\n",
    "        t = 1\n",
    "        if prediction[0][i] < prediction[1][i]:\n",
    "            t = 0\n",
    "        if t == y_train[i]:\n",
    "            n_correct += 1\n",
    "    \n",
    "    print('Prediction accuracy on training set: %.2f%%' % (float(n_correct)/n_test*100))\n",
    "    return weights\n",
    "\n",
    "solve_fisher()"
   ]
  },
  {
   "cell_type": "code",
   "execution_count": null,
   "metadata": {},
   "outputs": [],
   "source": []
  }
 ],
 "metadata": {
  "kernelspec": {
   "display_name": "Python 3",
   "language": "python",
   "name": "python3"
  },
  "language_info": {
   "codemirror_mode": {
    "name": "ipython",
    "version": 3
   },
   "file_extension": ".py",
   "mimetype": "text/x-python",
   "name": "python",
   "nbconvert_exporter": "python",
   "pygments_lexer": "ipython3",
   "version": "3.6.4"
  }
 },
 "nbformat": 4,
 "nbformat_minor": 2
}
