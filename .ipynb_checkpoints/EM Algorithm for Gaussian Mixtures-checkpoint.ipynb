{
 "cells": [
  {
   "cell_type": "markdown",
   "metadata": {},
   "source": [
    "# EM Algorithm for Gaussian Mixtures"
   ]
  },
  {
   "cell_type": "code",
   "execution_count": 13,
   "metadata": {},
   "outputs": [],
   "source": [
    "import numpy as np\n",
    "import pandas as pd\n",
    "import sys\n",
    "import math\n",
    "import matplotlib.pyplot as plt\n",
    "from sklearn.utils.random import sample_without_replacement"
   ]
  },
  {
   "cell_type": "markdown",
   "metadata": {},
   "source": [
    "## Dataset"
   ]
  },
  {
   "cell_type": "code",
   "execution_count": 12,
   "metadata": {},
   "outputs": [
    {
     "name": "stdout",
     "output_type": "stream",
     "text": [
      "data shape:  (128, 13)\n",
      "data type:  0     float64\n",
      "1     float64\n",
      "2     float64\n",
      "3     float64\n",
      "4     float64\n",
      "5     float64\n",
      "6     float64\n",
      "7     float64\n",
      "8     float64\n",
      "9     float64\n",
      "10    float64\n",
      "11    float64\n",
      "12    float64\n",
      "dtype: object\n"
     ]
    },
    {
     "data": {
      "text/html": [
       "<div>\n",
       "<style scoped>\n",
       "    .dataframe tbody tr th:only-of-type {\n",
       "        vertical-align: middle;\n",
       "    }\n",
       "\n",
       "    .dataframe tbody tr th {\n",
       "        vertical-align: top;\n",
       "    }\n",
       "\n",
       "    .dataframe thead th {\n",
       "        text-align: right;\n",
       "    }\n",
       "</style>\n",
       "<table border=\"1\" class=\"dataframe\">\n",
       "  <thead>\n",
       "    <tr style=\"text-align: right;\">\n",
       "      <th></th>\n",
       "      <th>0</th>\n",
       "      <th>1</th>\n",
       "      <th>2</th>\n",
       "      <th>3</th>\n",
       "      <th>4</th>\n",
       "      <th>5</th>\n",
       "      <th>6</th>\n",
       "      <th>7</th>\n",
       "      <th>8</th>\n",
       "      <th>9</th>\n",
       "      <th>10</th>\n",
       "      <th>11</th>\n",
       "      <th>12</th>\n",
       "    </tr>\n",
       "  </thead>\n",
       "  <tbody>\n",
       "    <tr>\n",
       "      <th>0</th>\n",
       "      <td>92.9894</td>\n",
       "      <td>-9.6430</td>\n",
       "      <td>-4.6412</td>\n",
       "      <td>-6.8569</td>\n",
       "      <td>-5.2263</td>\n",
       "      <td>-4.9604</td>\n",
       "      <td>2.3191</td>\n",
       "      <td>-0.4579</td>\n",
       "      <td>0.5685</td>\n",
       "      <td>1.8047</td>\n",
       "      <td>2.6274</td>\n",
       "      <td>5.2223</td>\n",
       "      <td>6.5404</td>\n",
       "    </tr>\n",
       "    <tr>\n",
       "      <th>1</th>\n",
       "      <td>73.4054</td>\n",
       "      <td>6.5269</td>\n",
       "      <td>-6.6736</td>\n",
       "      <td>0.5054</td>\n",
       "      <td>-4.4818</td>\n",
       "      <td>-5.1157</td>\n",
       "      <td>-6.3784</td>\n",
       "      <td>1.6296</td>\n",
       "      <td>-3.3999</td>\n",
       "      <td>0.0652</td>\n",
       "      <td>-2.5042</td>\n",
       "      <td>1.7626</td>\n",
       "      <td>-1.0612</td>\n",
       "    </tr>\n",
       "    <tr>\n",
       "      <th>2</th>\n",
       "      <td>94.6334</td>\n",
       "      <td>-4.5986</td>\n",
       "      <td>-12.4970</td>\n",
       "      <td>-6.3137</td>\n",
       "      <td>-6.7072</td>\n",
       "      <td>-7.4690</td>\n",
       "      <td>-6.7463</td>\n",
       "      <td>-3.6960</td>\n",
       "      <td>-3.4587</td>\n",
       "      <td>-1.4178</td>\n",
       "      <td>-1.3265</td>\n",
       "      <td>1.8756</td>\n",
       "      <td>0.6391</td>\n",
       "    </tr>\n",
       "    <tr>\n",
       "      <th>3</th>\n",
       "      <td>89.1135</td>\n",
       "      <td>-2.2287</td>\n",
       "      <td>0.2304</td>\n",
       "      <td>-2.7300</td>\n",
       "      <td>-0.9133</td>\n",
       "      <td>-1.9530</td>\n",
       "      <td>-1.0086</td>\n",
       "      <td>0.1486</td>\n",
       "      <td>2.0624</td>\n",
       "      <td>1.1938</td>\n",
       "      <td>-1.0113</td>\n",
       "      <td>0.1567</td>\n",
       "      <td>-1.2346</td>\n",
       "    </tr>\n",
       "    <tr>\n",
       "      <th>4</th>\n",
       "      <td>76.1929</td>\n",
       "      <td>2.5222</td>\n",
       "      <td>9.1796</td>\n",
       "      <td>4.3947</td>\n",
       "      <td>6.6885</td>\n",
       "      <td>4.0074</td>\n",
       "      <td>1.9488</td>\n",
       "      <td>2.2791</td>\n",
       "      <td>-0.2567</td>\n",
       "      <td>2.8208</td>\n",
       "      <td>-2.9867</td>\n",
       "      <td>-3.6861</td>\n",
       "      <td>-2.2471</td>\n",
       "    </tr>\n",
       "  </tbody>\n",
       "</table>\n",
       "</div>"
      ],
      "text/plain": [
       "        0       1        2       3       4       5       6       7       8   \\\n",
       "0  92.9894 -9.6430  -4.6412 -6.8569 -5.2263 -4.9604  2.3191 -0.4579  0.5685   \n",
       "1  73.4054  6.5269  -6.6736  0.5054 -4.4818 -5.1157 -6.3784  1.6296 -3.3999   \n",
       "2  94.6334 -4.5986 -12.4970 -6.3137 -6.7072 -7.4690 -6.7463 -3.6960 -3.4587   \n",
       "3  89.1135 -2.2287   0.2304 -2.7300 -0.9133 -1.9530 -1.0086  0.1486  2.0624   \n",
       "4  76.1929  2.5222   9.1796  4.3947  6.6885  4.0074  1.9488  2.2791 -0.2567   \n",
       "\n",
       "       9       10      11      12  \n",
       "0  1.8047  2.6274  5.2223  6.5404  \n",
       "1  0.0652 -2.5042  1.7626 -1.0612  \n",
       "2 -1.4178 -1.3265  1.8756  0.6391  \n",
       "3  1.1938 -1.0113  0.1567 -1.2346  \n",
       "4  2.8208 -2.9867 -3.6861 -2.2471  "
      ]
     },
     "execution_count": 12,
     "metadata": {},
     "output_type": "execute_result"
    }
   ],
   "source": [
    "data_df = pd.read_csv('dataset/CSE575-HW03-Data.csv', header=None)\n",
    "print('data shape: ', data_df.shape)\n",
    "print('data type: ', data_df.dtypes)\n",
    "data_df.head()"
   ]
  },
  {
   "cell_type": "markdown",
   "metadata": {},
   "source": [
    "## Clean the Data (Missing Value)"
   ]
  },
  {
   "cell_type": "code",
   "execution_count": 4,
   "metadata": {},
   "outputs": [
    {
     "data": {
      "text/html": [
       "<div>\n",
       "<style scoped>\n",
       "    .dataframe tbody tr th:only-of-type {\n",
       "        vertical-align: middle;\n",
       "    }\n",
       "\n",
       "    .dataframe tbody tr th {\n",
       "        vertical-align: top;\n",
       "    }\n",
       "\n",
       "    .dataframe thead th {\n",
       "        text-align: right;\n",
       "    }\n",
       "</style>\n",
       "<table border=\"1\" class=\"dataframe\">\n",
       "  <thead>\n",
       "    <tr style=\"text-align: right;\">\n",
       "      <th></th>\n",
       "      <th>0</th>\n",
       "      <th>1</th>\n",
       "      <th>2</th>\n",
       "      <th>3</th>\n",
       "      <th>4</th>\n",
       "      <th>5</th>\n",
       "      <th>6</th>\n",
       "      <th>7</th>\n",
       "      <th>8</th>\n",
       "      <th>9</th>\n",
       "      <th>10</th>\n",
       "      <th>11</th>\n",
       "      <th>12</th>\n",
       "    </tr>\n",
       "  </thead>\n",
       "  <tbody>\n",
       "    <tr>\n",
       "      <th>0</th>\n",
       "      <td>92.9894</td>\n",
       "      <td>-9.6430</td>\n",
       "      <td>-4.6412</td>\n",
       "      <td>-6.8569</td>\n",
       "      <td>-5.2263</td>\n",
       "      <td>-4.9604</td>\n",
       "      <td>2.3191</td>\n",
       "      <td>-0.4579</td>\n",
       "      <td>0.5685</td>\n",
       "      <td>1.8047</td>\n",
       "      <td>2.6274</td>\n",
       "      <td>5.2223</td>\n",
       "      <td>6.5404</td>\n",
       "    </tr>\n",
       "    <tr>\n",
       "      <th>1</th>\n",
       "      <td>73.4054</td>\n",
       "      <td>6.5269</td>\n",
       "      <td>-6.6736</td>\n",
       "      <td>0.5054</td>\n",
       "      <td>-4.4818</td>\n",
       "      <td>-5.1157</td>\n",
       "      <td>-6.3784</td>\n",
       "      <td>1.6296</td>\n",
       "      <td>-3.3999</td>\n",
       "      <td>0.0652</td>\n",
       "      <td>-2.5042</td>\n",
       "      <td>1.7626</td>\n",
       "      <td>-1.0612</td>\n",
       "    </tr>\n",
       "    <tr>\n",
       "      <th>2</th>\n",
       "      <td>94.6334</td>\n",
       "      <td>-4.5986</td>\n",
       "      <td>-12.4970</td>\n",
       "      <td>-6.3137</td>\n",
       "      <td>-6.7072</td>\n",
       "      <td>-7.4690</td>\n",
       "      <td>-6.7463</td>\n",
       "      <td>-3.6960</td>\n",
       "      <td>-3.4587</td>\n",
       "      <td>-1.4178</td>\n",
       "      <td>-1.3265</td>\n",
       "      <td>1.8756</td>\n",
       "      <td>0.6391</td>\n",
       "    </tr>\n",
       "    <tr>\n",
       "      <th>3</th>\n",
       "      <td>89.1135</td>\n",
       "      <td>-2.2287</td>\n",
       "      <td>0.2304</td>\n",
       "      <td>-2.7300</td>\n",
       "      <td>-0.9133</td>\n",
       "      <td>-1.9530</td>\n",
       "      <td>-1.0086</td>\n",
       "      <td>0.1486</td>\n",
       "      <td>2.0624</td>\n",
       "      <td>1.1938</td>\n",
       "      <td>-1.0113</td>\n",
       "      <td>0.1567</td>\n",
       "      <td>-1.2346</td>\n",
       "    </tr>\n",
       "    <tr>\n",
       "      <th>4</th>\n",
       "      <td>76.1929</td>\n",
       "      <td>2.5222</td>\n",
       "      <td>9.1796</td>\n",
       "      <td>4.3947</td>\n",
       "      <td>6.6885</td>\n",
       "      <td>4.0074</td>\n",
       "      <td>1.9488</td>\n",
       "      <td>2.2791</td>\n",
       "      <td>-0.2567</td>\n",
       "      <td>2.8208</td>\n",
       "      <td>-2.9867</td>\n",
       "      <td>-3.6861</td>\n",
       "      <td>-2.2471</td>\n",
       "    </tr>\n",
       "  </tbody>\n",
       "</table>\n",
       "</div>"
      ],
      "text/plain": [
       "        0       1        2       3       4       5       6       7       8   \\\n",
       "0  92.9894 -9.6430  -4.6412 -6.8569 -5.2263 -4.9604  2.3191 -0.4579  0.5685   \n",
       "1  73.4054  6.5269  -6.6736  0.5054 -4.4818 -5.1157 -6.3784  1.6296 -3.3999   \n",
       "2  94.6334 -4.5986 -12.4970 -6.3137 -6.7072 -7.4690 -6.7463 -3.6960 -3.4587   \n",
       "3  89.1135 -2.2287   0.2304 -2.7300 -0.9133 -1.9530 -1.0086  0.1486  2.0624   \n",
       "4  76.1929  2.5222   9.1796  4.3947  6.6885  4.0074  1.9488  2.2791 -0.2567   \n",
       "\n",
       "       9       10      11      12  \n",
       "0  1.8047  2.6274  5.2223  6.5404  \n",
       "1  0.0652 -2.5042  1.7626 -1.0612  \n",
       "2 -1.4178 -1.3265  1.8756  0.6391  \n",
       "3  1.1938 -1.0113  0.1567 -1.2346  \n",
       "4  2.8208 -2.9867 -3.6861 -2.2471  "
      ]
     },
     "execution_count": 4,
     "metadata": {},
     "output_type": "execute_result"
    }
   ],
   "source": [
    "data_df = data_df.fillna(data_df.mean())\n",
    "data_df.head()"
   ]
  },
  {
   "cell_type": "code",
   "execution_count": 5,
   "metadata": {},
   "outputs": [
    {
     "name": "stdout",
     "output_type": "stream",
     "text": [
      "dataset in numpy array with shape:  (128, 13)\n"
     ]
    }
   ],
   "source": [
    "data_x = data_df.to_numpy()\n",
    "print('dataset in numpy array with shape: ', data_x.shape)"
   ]
  },
  {
   "cell_type": "markdown",
   "metadata": {},
   "source": [
    "## Define the Multivariate Normal Distribution"
   ]
  },
  {
   "cell_type": "code",
   "execution_count": 204,
   "metadata": {},
   "outputs": [],
   "source": [
    "def p_normal_dist(x, mean, covariance):\n",
    "    \"\"\"\n",
    "    x is a d-dimensional vector in the shape of (d, )\n",
    "    mean is the mean of the normal distribution\n",
    "    covariance is the the covariance matrix\n",
    "    \"\"\"\n",
    "    d = x.shape[0]\n",
    "    x_m = x - mean\n",
    "    xm = np.reshape(x_m, (d, 1))\n",
    "    if np.linalg.det(covariance) < 0:\n",
    "        print('Warning: negative determinant')\n",
    "    part_0 = 1.0 / np.sqrt((2 * np.pi)**d * np.linalg.det(covariance))\n",
    "    part_1 = np.exp(-(np.linalg.solve(covariance, x_m).T.dot(x_m)) / 2)\n",
    "    return part_0*part_1"
   ]
  },
  {
   "cell_type": "markdown",
   "metadata": {},
   "source": [
    "### Verify the Correctness by Visualizing the Distribution\n",
    "\n",
    "- Citation: https://peterroelants.github.io/posts/multivariate-normal-primer/"
   ]
  },
  {
   "cell_type": "code",
   "execution_count": 213,
   "metadata": {},
   "outputs": [
    {
     "data": {
      "image/png": "[encoded data removed]",
      "text/plain": [
       "<Figure size 432x288 with 1 Axes>"
      ]
     },
     "metadata": {
      "needs_background": "light"
     },
     "output_type": "display_data"
    }
   ],
   "source": [
    "# Plot bivariate distribution\n",
    "def generate_surface(mean, covariance, d):\n",
    "    \"\"\"Helper function to generate density surface.\"\"\"\n",
    "    nb_of_x = 100 # grid size\n",
    "    x1s = np.linspace(-5, 5, num=nb_of_x)\n",
    "    x2s = np.linspace(-5, 5, num=nb_of_x)\n",
    "    x1, x2 = np.meshgrid(x1s, x2s) # Generate grid\n",
    "    pdf = np.zeros((nb_of_x, nb_of_x))\n",
    "    # Fill the cost matrix for each combination of weights\n",
    "    for i in range(nb_of_x):\n",
    "        for j in range(nb_of_x):\n",
    "            pdf[i,j] = p_normal_dist(np.array([x1[i,j], x2[i,j]]), mean, covariance)\n",
    "    return x1, x2, pdf  # x1, x2, pdf(x1,x2)\n",
    "\n",
    "\n",
    "def plot_bivariate_distribution():\n",
    "    ax1 = plt.gca()\n",
    "    d = 2  # number of dimensions\n",
    "\n",
    "    # Plot of independent Normals\n",
    "    bivariate_mean = np.array([0., 0.])  # Mean\n",
    "    bivariate_covariance = np.array([[1, -0.8], [-0.8, 1]])  # Covariance\n",
    "    x1, x2, p = generate_surface(bivariate_mean, bivariate_covariance, d)\n",
    "    # Plot bivariate distribution\n",
    "    con = ax1.contourf(x1, x2, p, 100, cmap='autumn_r')\n",
    "    ax1.set_xlabel('$x_1$', fontsize=13)\n",
    "    ax1.set_ylabel('$x_2$', fontsize=13)\n",
    "    ax1.axis([-2.5, 2.5, -2.5, 2.5])\n",
    "    ax1.set_aspect('equal')\n",
    "    ax1.set_title('Independent variables', fontsize=12)\n",
    "\n",
    "plot_bivariate_distribution()"
   ]
  },
  {
   "cell_type": "markdown",
   "metadata": {},
   "source": [
    "## Implement EM Algorithm for Gaussian Mixtures\n",
    "\n",
    "### Define helper functions"
   ]
  },
  {
   "cell_type": "code",
   "execution_count": 219,
   "metadata": {},
   "outputs": [],
   "source": [
    "def get_responsibility(x, component_k, k, mu, sigma, pi):\n",
    "    sum_denominator = 0\n",
    "    sum_numerator = 0\n",
    "    for i in range(0, k):\n",
    "        respond_component_i = pi[i]*p_normal_dist(x, mu[i], sigma[i])\n",
    "        if i == component_k:\n",
    "            sum_numerator = respond_component_i\n",
    "        sum_denominator += respond_component_i\n",
    "\n",
    "    return sum_numerator/float(sum_denominator)\n",
    "\n",
    "\n",
    "def get_mixture_prob(x, mu, sigma, pi):\n",
    "    prob_sum = 0\n",
    "    k = pi.shape[0]\n",
    "    for i in range(0, k):\n",
    "        prob_sum += pi[i]*p_normal_dist(x, mu[i], sigma[i])\n",
    "    return prob_sum\n",
    "\n",
    "\n",
    "def get_label(x, mu, sigma, pi):\n",
    "    k = mu.shape[0]\n",
    "    \n",
    "    label = None\n",
    "    prob = None\n",
    "    for i in range(0, k):\n",
    "        prob_i = pi[i]*p_normal_dist(x, mu[i], sigma[i])\n",
    "        if prob is None or prob_i > prob:\n",
    "            label = i\n",
    "            prob = prob_i\n",
    "    return label\n",
    "    "
   ]
  },
  {
   "cell_type": "markdown",
   "metadata": {},
   "source": [
    "### The k-means function"
   ]
  },
  {
   "cell_type": "code",
   "execution_count": 240,
   "metadata": {},
   "outputs": [],
   "source": [
    "def do_EM_gaussian_mixtures(X, k, mu=None, sigma=None, pi=None):\n",
    "    \"\"\"\n",
    "    X is the dataset\n",
    "    k is the number of Gaussians\n",
    "    mu is the mean of each Gaussian\n",
    "    sigma is the covariance matrix of each Gaussian\n",
    "    pi is the list of p(z_k=1)\n",
    "    \"\"\"\n",
    "    n_x = X.shape[0]\n",
    "    dimension = X.shape[1]\n",
    "    # init means\n",
    "    if mu is None:\n",
    "        x_idx = sample_without_replacement(n_population=n_x, n_samples=k)\n",
    "        mu = X[x_idx]\n",
    "    # init covariance matrix\n",
    "    if sigma is None:\n",
    "        sigma = np.ones(shape=(k, dimension, dimension), dtype=np.float64)\n",
    "        for i in range(0, k):\n",
    "            sigma[i] = np.diag(np.diag(np.ones(shape=(dimension, dimension), dtype=np.float64)))\n",
    "    # init pi\n",
    "    if pi is None:\n",
    "        pi = np.ones(shape=(k, ), dtype=np.float64)/float(k)\n",
    "    \n",
    "    is_converged = False\n",
    "    iteration = 0\n",
    "    r = np.zeros(shape=(n_x, k), dtype=np.float64)\n",
    "    while not is_converged:\n",
    "        is_converged = True\n",
    "        old_mu = np.copy(mu)\n",
    "        old_sigma = np.copy(sigma)\n",
    "        old_pi = np.copy(pi)\n",
    "        \n",
    "        # E-step: calculate r\n",
    "        for x_i, x in enumerate(X):\n",
    "            for j in range(0, k):\n",
    "                r[x_i][j] = get_responsibility(x, j, k, mu, sigma, pi)\n",
    "        \n",
    "        # M-step\n",
    "        for j in range(0, k):\n",
    "            sum_for_mu = 0\n",
    "            sum_for_sigma = np.zeros(shape=(dimension, dimension), dtype=np.float64)\n",
    "            n_k = 0\n",
    "            for x_i, x in enumerate(X):\n",
    "                sum_for_mu += r[x_i][j]*x\n",
    "                x_m = np.reshape(x - mu[j], (dimension, 1))\n",
    "                sum_for_sigma += r[x_i][j]*np.dot(x_m, x_m.T)\n",
    "                n_k += r[x_i][j]\n",
    "\n",
    "            # update means mu\n",
    "            mu[j] = sum_for_mu/n_k\n",
    "            \n",
    "            # update covariance matrix\n",
    "            sigma[j] = sum_for_sigma/n_k\n",
    "            \n",
    "            # update pi\n",
    "            pi[j] = n_k/n_x\n",
    "        \n",
    "        # test if the convergence condition is met\n",
    "        if np.linalg.norm(mu - old_mu) > 0.00001:\n",
    "            is_converged = False\n",
    "        if np.linalg.norm(sigma - old_sigma) > 0.00001:\n",
    "            is_converged = False\n",
    "        if np.linalg.norm(pi - old_pi) > 0.00001:\n",
    "            is_converged = False\n",
    "            \n",
    "        iteration += 1\n",
    "        log_str = '\\rk: %d, iteration %d' % (k, iteration)\n",
    "        sys.stdout.write(log_str)\n",
    "        sys.stdout.flush()\n",
    "    \n",
    "    print('\\nk=%d: converged after %d iteration.' % (k, iteration))\n",
    "    return mu, sigma, pi\n",
    "\n",
    "    "
   ]
  },
  {
   "cell_type": "code",
   "execution_count": 248,
   "metadata": {},
   "outputs": [
    {
     "name": "stdout",
     "output_type": "stream",
     "text": [
      "k: 2, iteration 47\n",
      "k=2: converged after 47 iteration.\n"
     ]
    }
   ],
   "source": [
    "def run_evaluation(X, k_list):\n",
    "    mu_log = []\n",
    "    sigma_log = []\n",
    "    pi_log = []\n",
    "    for k in k_list:\n",
    "        info = do_EM_gaussian_mixtures(X, k)\n",
    "        mu_log.append(info[0])\n",
    "        sigma_log.append(info[1])\n",
    "        pi_log.append(info[2])\n",
    "\n",
    "    return mu_log, sigma_log, pi_log\n",
    "\n",
    "k_list = [2]\n",
    "mu_log, sigma_log, pi_log = run_evaluation(data_x, k_list)"
   ]
  },
  {
   "cell_type": "markdown",
   "metadata": {},
   "source": [
    "## Visualize the Result\n",
    "\n",
    "### For k = 2, plot the points using its first two features. Use two different colors or symbols to distinguish the two clusters"
   ]
  },
  {
   "cell_type": "code",
   "execution_count": 249,
   "metadata": {},
   "outputs": [
    {
     "data": {
      "image/png": "[encoded data removed]",
      "text/plain": [
       "<Figure size 432x288 with 1 Axes>"
      ]
     },
     "metadata": {
      "needs_background": "light"
     },
     "output_type": "display_data"
    }
   ],
   "source": [
    "def plot_contour_gaussian(mu, sigma, color='r'):\n",
    "    x = np.linspace(50, 110, 200)\n",
    "    y = np.linspace(-20, 20, 200)\n",
    "\n",
    "    X, Y = np.meshgrid(x, y)\n",
    "    \n",
    "    Z = np.zeros(shape=(x.shape[0], y.shape[0]))\n",
    "    for i in range(0, x.shape[0]):\n",
    "        for j in range(0, y.shape[0]):\n",
    "            Z[i, j] = p_normal_dist(np.array([x[i], y[j]]), mu, sigma)\n",
    "            \n",
    "    plt.contour(X, Y, Z, colors=color)\n",
    "    \n",
    "\n",
    "def plot_two_features(data, mu, sigma, pi, is_plot_gaussian_contour=False):\n",
    "    # we first plot the contour of each gaussian components\n",
    "    k = mu.shape[0]\n",
    "    if is_plot_gaussian_contour:\n",
    "        colors = ['r', 'b']\n",
    "        for i in range(0, k):\n",
    "            plot_contour_gaussian(mu[i, 0:2], sigma[i, 0:2, 0:2], color=colors[i % 2])\n",
    "    \n",
    "    r = np.zeros(shape=(data.shape[0], ))\n",
    "    for i in range(0, data.shape[0]):\n",
    "        r[i] = get_label(data[i], mu, sigma, pi)\n",
    "    plt.scatter(data[:, 0], data[:, 1], c=r, s=50, cmap='vlag')\n",
    "    plt.title('k = 2 with first two features')\n",
    "\n",
    "plot_two_features(data_x, mu_log[0], sigma_log[0], pi_log[0])"
   ]
  },
  {
   "cell_type": "markdown",
   "metadata": {},
   "source": [
    "## Compare to Gaussian model in sklearn"
   ]
  },
  {
   "cell_type": "code",
   "execution_count": 250,
   "metadata": {},
   "outputs": [
    {
     "data": {
      "image/png": "[encoded data removed]",
      "text/plain": [
       "<Figure size 432x288 with 1 Axes>"
      ]
     },
     "metadata": {
      "needs_background": "light"
     },
     "output_type": "display_data"
    }
   ],
   "source": [
    "from sklearn.mixture import GaussianMixture \n",
    "def plot_gaussian_sklearn():\n",
    "    gmm = GaussianMixture(n_components = 2)\n",
    "    gmm.fit(data_df)\n",
    "    labels = gmm.predict(data_df) \n",
    "    d = data_df.copy()\n",
    "    d['labels']= labels \n",
    "    d0 = d[d['labels']== 0] \n",
    "    d1 = d[d['labels']== 1] \n",
    "\n",
    "    plt.scatter(d0[0], d0[1], c ='b') \n",
    "    plt.scatter(d1[0], d1[1], c ='r')\n",
    "    plt.title('The results from sklearn')\n",
    "    \n",
    "plot_gaussian_sklearn()"
   ]
  },
  {
   "cell_type": "code",
   "execution_count": null,
   "metadata": {},
   "outputs": [],
   "source": []
  }
 ],
 "metadata": {
  "kernelspec": {
   "display_name": "Python 3",
   "language": "python",
   "name": "python3"
  },
  "language_info": {
   "codemirror_mode": {
    "name": "ipython",
    "version": 3
   },
   "file_extension": ".py",
   "mimetype": "text/x-python",
   "name": "python",
   "nbconvert_exporter": "python",
   "pygments_lexer": "ipython3",
   "version": "3.7.3"
  }
 },
 "nbformat": 4,
 "nbformat_minor": 2
}
