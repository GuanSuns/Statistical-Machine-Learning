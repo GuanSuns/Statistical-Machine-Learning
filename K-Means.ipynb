{
 "cells": [
  {
   "cell_type": "markdown",
   "metadata": {},
   "source": [
    "# K-Means"
   ]
  },
  {
   "cell_type": "code",
   "execution_count": 2,
   "metadata": {},
   "outputs": [],
   "source": [
    "import numpy as np\n",
    "import matplotlib.pyplot as plt"
   ]
  },
  {
   "cell_type": "markdown",
   "metadata": {},
   "source": [
    "## Dataset"
   ]
  },
  {
   "cell_type": "code",
   "execution_count": 14,
   "metadata": {},
   "outputs": [
    {
     "data": {
      "text/plain": [
       "Text(0.5, 1.0, 'Data Points')"
      ]
     },
     "execution_count": 14,
     "metadata": {},
     "output_type": "execute_result"
    },
    {
     "data": {
      "image/png": "[encoded data removed]",
      "text/plain": [
       "<Figure size 432x288 with 1 Axes>"
      ]
     },
     "metadata": {
      "needs_background": "light"
     },
     "output_type": "display_data"
    }
   ],
   "source": [
    "x = [np.array([-3.0]), np.array([-1.0]), np.array([0.5]), np.array([2.0]), np.array([3.0]), np.array([4.0])]\n",
    "plt.plot([x_i[0] for x_i in x], [0 for _ in x], 'ro') \n",
    "plt.grid()\n",
    "plt.title('Data Points')"
   ]
  },
  {
   "cell_type": "code",
   "execution_count": 29,
   "metadata": {},
   "outputs": [],
   "source": [
    "# Use L2-Norm\n",
    "def dis_l2(x0, x1):\n",
    "    return np.linalg.norm(x0-x1)\n",
    "\n",
    "def loss_J(X, r, mu, dis=dis_l2):\n",
    "    loss = 0\n",
    "    for i, x in enumerate(X):\n",
    "        cluster_id = r[i]\n",
    "        mu_x = mu[cluster_id-1]\n",
    "        loss += float(dis(mu_x, x)**2)\n",
    "    return loss"
   ]
  },
  {
   "cell_type": "code",
   "execution_count": 43,
   "metadata": {},
   "outputs": [],
   "source": [
    "def do_k_means(x, K, mu=None):\n",
    "    n_x = len(x)\n",
    "\n",
    "    if mu is None:\n",
    "        mu = [np.array([-1.0]), np.array([3.0])]\n",
    "    r = [0.0 for _ in range(n_x)]\n",
    "\n",
    "    iteration = 1\n",
    "    is_converged = False\n",
    "    while not is_converged:\n",
    "        is_converged = True\n",
    "\n",
    "        # Update the cluster assignments r for each data point x\n",
    "        for i, x_i in enumerate(x):\n",
    "            # find the closest cluster\n",
    "            cluster_x = None\n",
    "            min_r_dist = None\n",
    "            # iterate through each miu\n",
    "            for j, mu_j in enumerate(mu):\n",
    "                cluster_id = j + 1\n",
    "                dis2r = dis(x_i, mu_j)\n",
    "                if min_r_dist is None or dis2r < min_r_dist:\n",
    "                    min_r_dist = dis2r\n",
    "                    cluster_x = cluster_id\n",
    "            # assign x to cluster r_x\n",
    "            if r[i] != cluster_x:\n",
    "                r[i] = cluster_x\n",
    "                is_converged = False\n",
    "                \n",
    "        print('Step %d, after updating cluster assignment but before updating centroids' % (iteration,))\n",
    "        print('\\tx: %s\\n\\tr: %s\\n\\t\\u03bc: %s\\n\\tLoss J: %s' % (str(x), str(r), str(mu), str(loss_J(x, r, mu))))\n",
    "            \n",
    "\n",
    "        # update miu by computing the mean of each cluster\n",
    "        for i in range(0, K):\n",
    "            n_cluster_i = 0\n",
    "            sum_cluster_i = 0\n",
    "            cluster_id = i + 1\n",
    "\n",
    "            for j, r_x in enumerate(r):\n",
    "                if r_x == cluster_id:\n",
    "                    sum_cluster_i += x[j]\n",
    "                    n_cluster_i += 1\n",
    "\n",
    "            mu[i] = sum_cluster_i/n_cluster_i\n",
    "\n",
    "        print('After step ', iteration)\n",
    "        print('\\tx: %s\\n\\tr: %s\\n\\t\\u03bc: %s\\n\\tLoss J: %s' % (str(x), str(r), str(mu), str(loss_J(x, r, mu))))\n",
    "        iteration += 1\n",
    "        \n",
    "    print('\\nConverged!')"
   ]
  },
  {
   "cell_type": "code",
   "execution_count": 44,
   "metadata": {},
   "outputs": [
    {
     "name": "stdout",
     "output_type": "stream",
     "text": [
      "Step 1, after updating cluster assignment but before updating centroids\n",
      "\tx: [array([-3.]), array([-1.]), array([0.5]), array([2.]), array([3.]), array([4.])]\n",
      "\tr: [1, 1, 1, 2, 2, 2]\n",
      "\tμ: [array([-1.]), array([3.])]\n",
      "\tLoss J: 8.25\n",
      "After step  1\n",
      "\tx: [array([-3.]), array([-1.]), array([0.5]), array([2.]), array([3.]), array([4.])]\n",
      "\tr: [1, 1, 1, 2, 2, 2]\n",
      "\tμ: [array([-1.16666667]), array([3.])]\n",
      "\tLoss J: 8.166666666666666\n",
      "Step 2, after updating cluster assignment but before updating centroids\n",
      "\tx: [array([-3.]), array([-1.]), array([0.5]), array([2.]), array([3.]), array([4.])]\n",
      "\tr: [1, 1, 1, 2, 2, 2]\n",
      "\tμ: [array([-1.16666667]), array([3.])]\n",
      "\tLoss J: 8.166666666666666\n",
      "After step  2\n",
      "\tx: [array([-3.]), array([-1.]), array([0.5]), array([2.]), array([3.]), array([4.])]\n",
      "\tr: [1, 1, 1, 2, 2, 2]\n",
      "\tμ: [array([-1.16666667]), array([3.])]\n",
      "\tLoss J: 8.166666666666666\n",
      "\n",
      "Converged!\n"
     ]
    }
   ],
   "source": [
    "K = 2\n",
    "mu = [np.array([-1.0]), np.array([3.0])]\n",
    "do_k_means(x, K, mu=mu)"
   ]
  },
  {
   "cell_type": "code",
   "execution_count": 45,
   "metadata": {},
   "outputs": [
    {
     "name": "stdout",
     "output_type": "stream",
     "text": [
      "Step 1, after updating cluster assignment but before updating centroids\n",
      "\tx: [array([-3.]), array([-1.]), array([0.5]), array([2.]), array([3.]), array([4.])]\n",
      "\tr: [1, 2, 2, 3, 3, 3]\n",
      "\tμ: [array([-3.]), array([0]), array([3.])]\n",
      "\tLoss J: 3.25\n",
      "After step  1\n",
      "\tx: [array([-3.]), array([-1.]), array([0.5]), array([2.]), array([3.]), array([4.])]\n",
      "\tr: [1, 2, 2, 3, 3, 3]\n",
      "\tμ: [array([-3.]), array([-0.25]), array([3.])]\n",
      "\tLoss J: 3.125\n",
      "Step 2, after updating cluster assignment but before updating centroids\n",
      "\tx: [array([-3.]), array([-1.]), array([0.5]), array([2.]), array([3.]), array([4.])]\n",
      "\tr: [1, 2, 2, 3, 3, 3]\n",
      "\tμ: [array([-3.]), array([-0.25]), array([3.])]\n",
      "\tLoss J: 3.125\n",
      "After step  2\n",
      "\tx: [array([-3.]), array([-1.]), array([0.5]), array([2.]), array([3.]), array([4.])]\n",
      "\tr: [1, 2, 2, 3, 3, 3]\n",
      "\tμ: [array([-3.]), array([-0.25]), array([3.])]\n",
      "\tLoss J: 3.125\n",
      "\n",
      "Converged!\n"
     ]
    }
   ],
   "source": [
    "K = 3\n",
    "mu = [np.array([-3.0]), np.array([0]), np.array([3.0])]\n",
    "do_k_means(x, K, mu=mu)"
   ]
  },
  {
   "cell_type": "code",
   "execution_count": null,
   "metadata": {},
   "outputs": [],
   "source": []
  },
  {
   "cell_type": "code",
   "execution_count": null,
   "metadata": {},
   "outputs": [],
   "source": []
  }
 ],
 "metadata": {
  "kernelspec": {
   "display_name": "Python 3",
   "language": "python",
   "name": "python3"
  },
  "language_info": {
   "codemirror_mode": {
    "name": "ipython",
    "version": 3
   },
   "file_extension": ".py",
   "mimetype": "text/x-python",
   "name": "python",
   "nbconvert_exporter": "python",
   "pygments_lexer": "ipython3",
   "version": "3.7.3"
  }
 },
 "nbformat": 4,
 "nbformat_minor": 2
}
