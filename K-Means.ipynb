{
 "cells": [
  {
   "cell_type": "markdown",
   "metadata": {},
   "source": [
    "# K-Means from Scratch"
   ]
  },
  {
   "cell_type": "code",
   "execution_count": 47,
   "metadata": {},
   "outputs": [],
   "source": [
    "import numpy as np\n",
    "import pandas as pd\n",
    "import sys\n",
    "import seaborn as sns\n",
    "import matplotlib.pyplot as plt\n",
    "from sklearn.utils.random import sample_without_replacement"
   ]
  },
  {
   "cell_type": "markdown",
   "metadata": {},
   "source": [
    "## Dataset"
   ]
  },
  {
   "cell_type": "code",
   "execution_count": 15,
   "metadata": {},
   "outputs": [
    {
     "name": "stdout",
     "output_type": "stream",
     "text": [
      "data shape:  (128, 13)\n",
      "data type:  0     float64\n",
      "1     float64\n",
      "2     float64\n",
      "3     float64\n",
      "4     float64\n",
      "5     float64\n",
      "6     float64\n",
      "7     float64\n",
      "8     float64\n",
      "9     float64\n",
      "10    float64\n",
      "11    float64\n",
      "12    float64\n",
      "dtype: object\n"
     ]
    },
    {
     "data": {
      "text/html": [
       "<div>\n",
       "<style scoped>\n",
       "    .dataframe tbody tr th:only-of-type {\n",
       "        vertical-align: middle;\n",
       "    }\n",
       "\n",
       "    .dataframe tbody tr th {\n",
       "        vertical-align: top;\n",
       "    }\n",
       "\n",
       "    .dataframe thead th {\n",
       "        text-align: right;\n",
       "    }\n",
       "</style>\n",
       "<table border=\"1\" class=\"dataframe\">\n",
       "  <thead>\n",
       "    <tr style=\"text-align: right;\">\n",
       "      <th></th>\n",
       "      <th>0</th>\n",
       "      <th>1</th>\n",
       "      <th>2</th>\n",
       "      <th>3</th>\n",
       "      <th>4</th>\n",
       "      <th>5</th>\n",
       "      <th>6</th>\n",
       "      <th>7</th>\n",
       "      <th>8</th>\n",
       "      <th>9</th>\n",
       "      <th>10</th>\n",
       "      <th>11</th>\n",
       "      <th>12</th>\n",
       "    </tr>\n",
       "  </thead>\n",
       "  <tbody>\n",
       "    <tr>\n",
       "      <th>0</th>\n",
       "      <td>92.9894</td>\n",
       "      <td>-9.6430</td>\n",
       "      <td>-4.6412</td>\n",
       "      <td>-6.8569</td>\n",
       "      <td>-5.2263</td>\n",
       "      <td>-4.9604</td>\n",
       "      <td>2.3191</td>\n",
       "      <td>-0.4579</td>\n",
       "      <td>0.5685</td>\n",
       "      <td>1.8047</td>\n",
       "      <td>2.6274</td>\n",
       "      <td>5.2223</td>\n",
       "      <td>6.5404</td>\n",
       "    </tr>\n",
       "    <tr>\n",
       "      <th>1</th>\n",
       "      <td>73.4054</td>\n",
       "      <td>6.5269</td>\n",
       "      <td>-6.6736</td>\n",
       "      <td>0.5054</td>\n",
       "      <td>-4.4818</td>\n",
       "      <td>-5.1157</td>\n",
       "      <td>-6.3784</td>\n",
       "      <td>1.6296</td>\n",
       "      <td>-3.3999</td>\n",
       "      <td>0.0652</td>\n",
       "      <td>-2.5042</td>\n",
       "      <td>1.7626</td>\n",
       "      <td>-1.0612</td>\n",
       "    </tr>\n",
       "    <tr>\n",
       "      <th>2</th>\n",
       "      <td>94.6334</td>\n",
       "      <td>-4.5986</td>\n",
       "      <td>-12.4970</td>\n",
       "      <td>-6.3137</td>\n",
       "      <td>-6.7072</td>\n",
       "      <td>-7.4690</td>\n",
       "      <td>-6.7463</td>\n",
       "      <td>-3.6960</td>\n",
       "      <td>-3.4587</td>\n",
       "      <td>-1.4178</td>\n",
       "      <td>-1.3265</td>\n",
       "      <td>1.8756</td>\n",
       "      <td>0.6391</td>\n",
       "    </tr>\n",
       "    <tr>\n",
       "      <th>3</th>\n",
       "      <td>89.1135</td>\n",
       "      <td>-2.2287</td>\n",
       "      <td>0.2304</td>\n",
       "      <td>-2.7300</td>\n",
       "      <td>-0.9133</td>\n",
       "      <td>-1.9530</td>\n",
       "      <td>-1.0086</td>\n",
       "      <td>0.1486</td>\n",
       "      <td>2.0624</td>\n",
       "      <td>1.1938</td>\n",
       "      <td>-1.0113</td>\n",
       "      <td>0.1567</td>\n",
       "      <td>-1.2346</td>\n",
       "    </tr>\n",
       "    <tr>\n",
       "      <th>4</th>\n",
       "      <td>76.1929</td>\n",
       "      <td>2.5222</td>\n",
       "      <td>9.1796</td>\n",
       "      <td>4.3947</td>\n",
       "      <td>6.6885</td>\n",
       "      <td>4.0074</td>\n",
       "      <td>1.9488</td>\n",
       "      <td>2.2791</td>\n",
       "      <td>-0.2567</td>\n",
       "      <td>2.8208</td>\n",
       "      <td>-2.9867</td>\n",
       "      <td>-3.6861</td>\n",
       "      <td>-2.2471</td>\n",
       "    </tr>\n",
       "  </tbody>\n",
       "</table>\n",
       "</div>"
      ],
      "text/plain": [
       "        0       1        2       3       4       5       6       7       8   \\\n",
       "0  92.9894 -9.6430  -4.6412 -6.8569 -5.2263 -4.9604  2.3191 -0.4579  0.5685   \n",
       "1  73.4054  6.5269  -6.6736  0.5054 -4.4818 -5.1157 -6.3784  1.6296 -3.3999   \n",
       "2  94.6334 -4.5986 -12.4970 -6.3137 -6.7072 -7.4690 -6.7463 -3.6960 -3.4587   \n",
       "3  89.1135 -2.2287   0.2304 -2.7300 -0.9133 -1.9530 -1.0086  0.1486  2.0624   \n",
       "4  76.1929  2.5222   9.1796  4.3947  6.6885  4.0074  1.9488  2.2791 -0.2567   \n",
       "\n",
       "       9       10      11      12  \n",
       "0  1.8047  2.6274  5.2223  6.5404  \n",
       "1  0.0652 -2.5042  1.7626 -1.0612  \n",
       "2 -1.4178 -1.3265  1.8756  0.6391  \n",
       "3  1.1938 -1.0113  0.1567 -1.2346  \n",
       "4  2.8208 -2.9867 -3.6861 -2.2471  "
      ]
     },
     "execution_count": 15,
     "metadata": {},
     "output_type": "execute_result"
    }
   ],
   "source": [
    "data_df = pd.read_csv('dataset/CSE575-HW03-Data.csv', header=None)\n",
    "print('data shape: ', data_df.shape)\n",
    "print('data type: ', data_df.dtypes)\n",
    "data_df.head()"
   ]
  },
  {
   "cell_type": "markdown",
   "metadata": {},
   "source": [
    "## Clean the Data (Missing Value)"
   ]
  },
  {
   "cell_type": "code",
   "execution_count": 6,
   "metadata": {},
   "outputs": [
    {
     "data": {
      "text/html": [
       "<div>\n",
       "<style scoped>\n",
       "    .dataframe tbody tr th:only-of-type {\n",
       "        vertical-align: middle;\n",
       "    }\n",
       "\n",
       "    .dataframe tbody tr th {\n",
       "        vertical-align: top;\n",
       "    }\n",
       "\n",
       "    .dataframe thead th {\n",
       "        text-align: right;\n",
       "    }\n",
       "</style>\n",
       "<table border=\"1\" class=\"dataframe\">\n",
       "  <thead>\n",
       "    <tr style=\"text-align: right;\">\n",
       "      <th></th>\n",
       "      <th>0</th>\n",
       "      <th>1</th>\n",
       "      <th>2</th>\n",
       "      <th>3</th>\n",
       "      <th>4</th>\n",
       "      <th>5</th>\n",
       "      <th>6</th>\n",
       "      <th>7</th>\n",
       "      <th>8</th>\n",
       "      <th>9</th>\n",
       "      <th>10</th>\n",
       "      <th>11</th>\n",
       "      <th>12</th>\n",
       "    </tr>\n",
       "  </thead>\n",
       "  <tbody>\n",
       "    <tr>\n",
       "      <th>0</th>\n",
       "      <td>92.9894</td>\n",
       "      <td>-9.6430</td>\n",
       "      <td>-4.6412</td>\n",
       "      <td>-6.8569</td>\n",
       "      <td>-5.2263</td>\n",
       "      <td>-4.9604</td>\n",
       "      <td>2.3191</td>\n",
       "      <td>-0.4579</td>\n",
       "      <td>0.5685</td>\n",
       "      <td>1.8047</td>\n",
       "      <td>2.6274</td>\n",
       "      <td>5.2223</td>\n",
       "      <td>6.5404</td>\n",
       "    </tr>\n",
       "    <tr>\n",
       "      <th>1</th>\n",
       "      <td>73.4054</td>\n",
       "      <td>6.5269</td>\n",
       "      <td>-6.6736</td>\n",
       "      <td>0.5054</td>\n",
       "      <td>-4.4818</td>\n",
       "      <td>-5.1157</td>\n",
       "      <td>-6.3784</td>\n",
       "      <td>1.6296</td>\n",
       "      <td>-3.3999</td>\n",
       "      <td>0.0652</td>\n",
       "      <td>-2.5042</td>\n",
       "      <td>1.7626</td>\n",
       "      <td>-1.0612</td>\n",
       "    </tr>\n",
       "    <tr>\n",
       "      <th>2</th>\n",
       "      <td>94.6334</td>\n",
       "      <td>-4.5986</td>\n",
       "      <td>-12.4970</td>\n",
       "      <td>-6.3137</td>\n",
       "      <td>-6.7072</td>\n",
       "      <td>-7.4690</td>\n",
       "      <td>-6.7463</td>\n",
       "      <td>-3.6960</td>\n",
       "      <td>-3.4587</td>\n",
       "      <td>-1.4178</td>\n",
       "      <td>-1.3265</td>\n",
       "      <td>1.8756</td>\n",
       "      <td>0.6391</td>\n",
       "    </tr>\n",
       "    <tr>\n",
       "      <th>3</th>\n",
       "      <td>89.1135</td>\n",
       "      <td>-2.2287</td>\n",
       "      <td>0.2304</td>\n",
       "      <td>-2.7300</td>\n",
       "      <td>-0.9133</td>\n",
       "      <td>-1.9530</td>\n",
       "      <td>-1.0086</td>\n",
       "      <td>0.1486</td>\n",
       "      <td>2.0624</td>\n",
       "      <td>1.1938</td>\n",
       "      <td>-1.0113</td>\n",
       "      <td>0.1567</td>\n",
       "      <td>-1.2346</td>\n",
       "    </tr>\n",
       "    <tr>\n",
       "      <th>4</th>\n",
       "      <td>76.1929</td>\n",
       "      <td>2.5222</td>\n",
       "      <td>9.1796</td>\n",
       "      <td>4.3947</td>\n",
       "      <td>6.6885</td>\n",
       "      <td>4.0074</td>\n",
       "      <td>1.9488</td>\n",
       "      <td>2.2791</td>\n",
       "      <td>-0.2567</td>\n",
       "      <td>2.8208</td>\n",
       "      <td>-2.9867</td>\n",
       "      <td>-3.6861</td>\n",
       "      <td>-2.2471</td>\n",
       "    </tr>\n",
       "  </tbody>\n",
       "</table>\n",
       "</div>"
      ],
      "text/plain": [
       "        0       1        2       3       4       5       6       7       8   \\\n",
       "0  92.9894 -9.6430  -4.6412 -6.8569 -5.2263 -4.9604  2.3191 -0.4579  0.5685   \n",
       "1  73.4054  6.5269  -6.6736  0.5054 -4.4818 -5.1157 -6.3784  1.6296 -3.3999   \n",
       "2  94.6334 -4.5986 -12.4970 -6.3137 -6.7072 -7.4690 -6.7463 -3.6960 -3.4587   \n",
       "3  89.1135 -2.2287   0.2304 -2.7300 -0.9133 -1.9530 -1.0086  0.1486  2.0624   \n",
       "4  76.1929  2.5222   9.1796  4.3947  6.6885  4.0074  1.9488  2.2791 -0.2567   \n",
       "\n",
       "       9       10      11      12  \n",
       "0  1.8047  2.6274  5.2223  6.5404  \n",
       "1  0.0652 -2.5042  1.7626 -1.0612  \n",
       "2 -1.4178 -1.3265  1.8756  0.6391  \n",
       "3  1.1938 -1.0113  0.1567 -1.2346  \n",
       "4  2.8208 -2.9867 -3.6861 -2.2471  "
      ]
     },
     "execution_count": 6,
     "metadata": {},
     "output_type": "execute_result"
    }
   ],
   "source": [
    "data_df = data_df.fillna(data_df.mean())\n",
    "data_df.head()"
   ]
  },
  {
   "cell_type": "code",
   "execution_count": 23,
   "metadata": {},
   "outputs": [
    {
     "name": "stdout",
     "output_type": "stream",
     "text": [
      "dataset in numpy array with shape:  (128, 13)\n"
     ]
    }
   ],
   "source": [
    "data_x = data_df.to_numpy()\n",
    "print('dataset in numpy array with shape: ', data_x.shape)"
   ]
  },
  {
   "cell_type": "markdown",
   "metadata": {},
   "source": [
    "## Implement K-Means\n",
    "\n",
    "### Define the loss function"
   ]
  },
  {
   "cell_type": "code",
   "execution_count": 25,
   "metadata": {},
   "outputs": [],
   "source": [
    "# Use L2-Norm\n",
    "def dist_l2(x0, x1):\n",
    "    return np.linalg.norm(x0-x1)\n",
    "\n",
    "def loss_J(X, r, mu, dist_func=dist_l2):\n",
    "    \"\"\"\n",
    "    X is the dataset\n",
    "    r is the cluster assignment of each data point\n",
    "    mu is the list of centroids\n",
    "    \"\"\"\n",
    "    loss = 0\n",
    "    for i, x in enumerate(X):\n",
    "        cluster_id = r[i]\n",
    "        mu_x = mu[cluster_id-1]\n",
    "        loss += float(dist_func(mu_x, x)**2)\n",
    "    return loss"
   ]
  },
  {
   "cell_type": "markdown",
   "metadata": {},
   "source": [
    "### The k-means function"
   ]
  },
  {
   "cell_type": "code",
   "execution_count": 43,
   "metadata": {},
   "outputs": [],
   "source": [
    "def do_k_means(x, k, mu=None, dist_func=dist_l2):\n",
    "    \"\"\"\n",
    "    x is the dataset\n",
    "    k is the number of centroids\n",
    "    mu is the initial position of the centroids\n",
    "    \"\"\"\n",
    "    n_x = len(x)\n",
    "\n",
    "    # if mu is None, we will randomly initialize the centroids\n",
    "    if mu is None:\n",
    "        x_idx = sample_without_replacement(n_population=x.shape[0], n_samples=k)\n",
    "        mu = x[x_idx]\n",
    "    # the cluster assignment of each data point (0 means not assigned, cluster ids start from 1)\n",
    "    r = np.zeros(shape=(n_x, ), dtype=np.uint8)\n",
    "\n",
    "    iteration = 1\n",
    "    is_converged = False\n",
    "    while not is_converged:\n",
    "        is_converged = True\n",
    "\n",
    "        # Update the cluster assignments r for each data point x\n",
    "        for i, x_i in enumerate(x):\n",
    "            # find the closest cluster\n",
    "            cluster_x = None\n",
    "            min_r_dist = None\n",
    "            # iterate through each miu\n",
    "            for j, mu_j in enumerate(mu):\n",
    "                cluster_id = j + 1\n",
    "                dis2r = dist_func(x_i, mu_j)\n",
    "                if min_r_dist is None or dis2r < min_r_dist:\n",
    "                    min_r_dist = dis2r\n",
    "                    cluster_x = cluster_id\n",
    "            # assign x to cluster r_x\n",
    "            if r[i] != cluster_x:\n",
    "                r[i] = cluster_x\n",
    "                is_converged = False\n",
    "\n",
    "        # update miu by computing the mean of each cluster\n",
    "        for i in range(0, k):\n",
    "            n_cluster_i = 0    # count the data points in current cluster\n",
    "            cluster_id = i + 1   # cluster id\n",
    "\n",
    "            sum_cluster_i = 0 \n",
    "            for j, r_x in enumerate(r):\n",
    "                if r_x == cluster_id:\n",
    "                    sum_cluster_i += x[j]\n",
    "                    n_cluster_i += 1\n",
    "\n",
    "            mu[i] = sum_cluster_i/n_cluster_i\n",
    "        \n",
    "        iteration += 1\n",
    "        \n",
    "    print('k: %d, converged after %d steps, loss J: %s' % (k, iteration, str(loss_J(x, r, mu))))\n",
    "    return r, mu, loss_J(x, r, mu)"
   ]
  },
  {
   "cell_type": "code",
   "execution_count": 45,
   "metadata": {},
   "outputs": [
    {
     "name": "stdout",
     "output_type": "stream",
     "text": [
      "k: 2, converged after 10 steps, loss J: 17488.957285790137\n",
      "k: 3, converged after 11 steps, loss J: 14559.320782617859\n",
      "k: 4, converged after 12 steps, loss J: 12454.53866947632\n",
      "k: 5, converged after 14 steps, loss J: 11868.85410774912\n",
      "k: 6, converged after 8 steps, loss J: 10971.754622814044\n",
      "k: 7, converged after 6 steps, loss J: 10826.810266699495\n",
      "k: 8, converged after 18 steps, loss J: 9954.150191203264\n",
      "k: 9, converged after 11 steps, loss J: 10029.402388113716\n"
     ]
    }
   ],
   "source": [
    "def run_evaluation(x, k_list):\n",
    "    r_log = []\n",
    "    mu_log = []\n",
    "    loss_log = []\n",
    "    for k in k_list:\n",
    "        info = do_k_means(x, k)\n",
    "        r_log.append(info[0])\n",
    "        mu_log.append(info[1])\n",
    "        loss_log.append(info[2])\n",
    "\n",
    "    return r_log, mu_log, loss_log\n",
    "\n",
    "k_list = [2, 3, 4, 5, 6, 7, 8, 9]\n",
    "r_log, mu_log, loss_log = run_evaluation(data_x, k_list)"
   ]
  },
  {
   "cell_type": "markdown",
   "metadata": {},
   "source": [
    "## Visualize the Result\n",
    "\n",
    "### Plot the objective function as a function of k"
   ]
  },
  {
   "cell_type": "code",
   "execution_count": 46,
   "metadata": {},
   "outputs": [
    {
     "data": {
      "image/png": "[encoded data removed]",
      "text/plain": [
       "<Figure size 432x288 with 1 Axes>"
      ]
     },
     "metadata": {
      "needs_background": "light"
     },
     "output_type": "display_data"
    }
   ],
   "source": [
    "def plot_loss_versus_k(loss_list, k_list):\n",
    "    plt.plot(k_list, loss_list, 'r', label='k versus loss')\n",
    "    plt.legend()\n",
    "    plt.title('K-Means: k versus loss')\n",
    "\n",
    "plot_loss_versus_k(loss_log, k_list)"
   ]
  },
  {
   "cell_type": "markdown",
   "metadata": {},
   "source": [
    "### For k = 2, plot the points using its first two features. Use two different colors or symbols to distinguish the two clusters"
   ]
  },
  {
   "cell_type": "code",
   "execution_count": 61,
   "metadata": {},
   "outputs": [
    {
     "name": "stderr",
     "output_type": "stream",
     "text": [
      "No handles with labels found to put in legend.\n"
     ]
    },
    {
     "data": {
      "image/png": "[encoded data removed]",
      "text/plain": [
       "<Figure size 432x288 with 1 Axes>"
      ]
     },
     "metadata": {
      "needs_background": "light"
     },
     "output_type": "display_data"
    }
   ],
   "source": [
    "def plot_two_features(data, r):\n",
    "    plt.scatter(data[:, 0], data[:, 1], c=r, s=50, cmap='autumn')\n",
    "    plt.title('k = 2')\n",
    "\n",
    "plot_two_features(data_x, r_log[0])"
   ]
  },
  {
   "cell_type": "code",
   "execution_count": null,
   "metadata": {},
   "outputs": [],
   "source": []
  }
 ],
 "metadata": {
  "kernelspec": {
   "display_name": "Python 3",
   "language": "python",
   "name": "python3"
  },
  "language_info": {
   "codemirror_mode": {
    "name": "ipython",
    "version": 3
   },
   "file_extension": ".py",
   "mimetype": "text/x-python",
   "name": "python",
   "nbconvert_exporter": "python",
   "pygments_lexer": "ipython3",
   "version": "3.7.3"
  }
 },
 "nbformat": 4,
 "nbformat_minor": 2
}
