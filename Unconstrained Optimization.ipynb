{
 "cells": [
  {
   "cell_type": "markdown",
   "metadata": {},
   "source": [
    "# Unconstrained Optimization"
   ]
  },
  {
   "cell_type": "code",
   "execution_count": 2,
   "metadata": {},
   "outputs": [],
   "source": [
    "import numpy as np"
   ]
  },
  {
   "cell_type": "markdown",
   "metadata": {},
   "source": [
    "## Backtrack Line Search"
   ]
  },
  {
   "cell_type": "code",
   "execution_count": 9,
   "metadata": {},
   "outputs": [
    {
     "name": "stdout",
     "output_type": "stream",
     "text": [
      "Step 1: updated step size t is 0.900\n",
      "Step 2: updated step size t is 0.810\n",
      "Step 3: updated step size t is 0.729\n",
      "Step 4: updated step size t is 0.656\n",
      "Step 5: updated step size t is 0.590\n",
      "Step 6: updated step size t is 0.531\n",
      "Step 7: updated step size t is 0.478\n",
      "Step 8: updated step size t is 0.430\n",
      "Step 9: updated step size t is 0.387\n",
      "Step 10: updated step size t is 0.349\n",
      "Step 11: updated step size t is 0.314\n",
      "Step 12: updated step size t is 0.282\n",
      "Step 13: updated step size t is 0.254\n",
      "Step 14: updated step size t is 0.229\n",
      "Step 15: updated step size t is 0.206\n",
      "Step 16: updated step size t is 0.185\n",
      "\n",
      "Final step size after 16 iteration: 0.185\n"
     ]
    }
   ],
   "source": [
    "def do_backtract_line_search():\n",
    "    def func(x):\n",
    "        return float(x[0])*x[0] + float(x[1])*x[1]*5.0\n",
    "        \n",
    "    def derivative_func(x):\n",
    "        return np.array([2.0*x[0], 10.0*x[1]])\n",
    "        \n",
    "    alpha = 0.4\n",
    "    beta = 0.9\n",
    "    \n",
    "    x = np.array([5.0, 1.0])\n",
    "    \n",
    "    step = 1\n",
    "    t = 1.0\n",
    "    while func(x - t*derivative_func(x)) > func(x) - t*alpha*(np.dot(derivative_func(x), derivative_func(x))):\n",
    "        t *= beta\n",
    "        \n",
    "        print('Step %d: updated step size t is %.3f' % (step, t))\n",
    "        step += 1\n",
    "        \n",
    "    print('\\nFinal step size after %d iteration: %.3f' % (step-1, t))\n",
    "        \n",
    "\n",
    "do_backtract_line_search()"
   ]
  },
  {
   "cell_type": "code",
   "execution_count": null,
   "metadata": {},
   "outputs": [],
   "source": []
  }
 ],
 "metadata": {
  "kernelspec": {
   "display_name": "Python 3",
   "language": "python",
   "name": "python3"
  },
  "language_info": {
   "codemirror_mode": {
    "name": "ipython",
    "version": 3
   },
   "file_extension": ".py",
   "mimetype": "text/x-python",
   "name": "python",
   "nbconvert_exporter": "python",
   "pygments_lexer": "ipython3",
   "version": "3.7.3"
  }
 },
 "nbformat": 4,
 "nbformat_minor": 2
}
