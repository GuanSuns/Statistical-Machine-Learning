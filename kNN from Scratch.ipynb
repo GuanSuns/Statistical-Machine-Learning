{
 "cells": [
  {
   "cell_type": "markdown",
   "metadata": {
    "colab_type": "text",
    "id": "dYdqwsELloXM"
   },
   "source": [
    "# kNN from Scratch\n",
    "- Implement kNN from scratch\n",
    "- Use MNIST handwriting dataset for evaluation\n",
    "- Use the kNN model in sklearn for comparison"
   ]
  },
  {
   "cell_type": "code",
   "execution_count": 248,
   "metadata": {
    "colab": {},
    "colab_type": "code",
    "id": "54_M1tvgloXP"
   },
   "outputs": [],
   "source": [
    "import struct\n",
    "import os\n",
    "import numpy as np\n",
    "import matplotlib\n",
    "from sklearn.neighbors import KNeighborsClassifier\n",
    "from sklearn.utils.random import sample_without_replacement\n",
    "import random\n",
    "import math\n",
    "import sys\n",
    "import matplotlib.pyplot as plt\n",
    "%matplotlib inline\n",
    "from collections import Counter"
   ]
  },
  {
   "cell_type": "markdown",
   "metadata": {
    "colab_type": "text",
    "id": "k__ZEqp0loXS"
   },
   "source": [
    "## Load the Dataset\n",
    "- Link: http://yann.lecun.com/exdb/mnist/\n",
    "- The data reader is based on: https://colab.research.google.com/github/chokkan/deeplearningclass/blob/master/mnist.ipynb#scrollTo=TStlGwaUaZKC"
   ]
  },
  {
   "cell_type": "code",
   "execution_count": 249,
   "metadata": {
    "colab": {
     "base_uri": "https://localhost:8080/",
     "height": 255
    },
    "colab_type": "code",
    "id": "91ZHJqsTloXT",
    "outputId": "f3225078-c9c0-428c-8e9d-8a613b1e5953"
   },
   "outputs": [
    {
     "name": "stdout",
     "output_type": "stream",
     "text": [
      "training image shape:  (60000, 28, 28)\n",
      "training image vectors shape:  (60000, 784)\n",
      "training label shape:  (60000,)\n",
      "test image shape:  (10000, 28, 28)\n",
      "test image vectors shape:  (10000, 784)\n",
      "test label shape:  (10000,)\n",
      "\n",
      "After sampling: \n",
      "training image shape:  (10000, 28, 28)\n",
      "training image vectors shape:  (10000, 784)\n",
      "training label shape:  (10000,)\n",
      "test image shape:  (1000, 28, 28)\n",
      "test image vectors shape:  (1000, 784)\n",
      "test label shape:  (1000,)\n"
     ]
    }
   ],
   "source": [
    "def read_mnist_dataset(dir_minst):\n",
    "    training_img_file = os.path.join(dir_minst, 'train-images-idx3-ubyte')\n",
    "    training_label_file = os.path.join(dir_minst, 'train-labels-idx1-ubyte')\n",
    "    \n",
    "    test_img_file = os.path.join(dir_minst, 't10k-images-idx3-ubyte')\n",
    "    test_label_file = os.path.join(dir_minst, 't10k-labels-idx1-ubyte')\n",
    "    \n",
    "    # read the training set\n",
    "    training_label = None\n",
    "    with open(training_label_file, 'rb') as f:\n",
    "        magic, num = struct.unpack(\">II\", f.read(8))\n",
    "        training_label = np.fromfile(f, dtype=np.int8)\n",
    "    \n",
    "    training_img = None\n",
    "    with open(training_img_file, 'rb') as f:\n",
    "        magic, num, rows, cols = struct.unpack(\">IIII\", f.read(16))\n",
    "        training_img = np.fromfile(f, dtype=np.uint8).reshape(len(training_label), rows, cols)\n",
    "        \n",
    "    # read the testing set\n",
    "    test_label = None\n",
    "    with open(test_label_file, 'rb') as f:\n",
    "        magic, num = struct.unpack(\">II\", f.read(8))\n",
    "        test_label = np.fromfile(f, dtype=np.int8)\n",
    "    \n",
    "    test_img = None\n",
    "    with open(test_img_file, 'rb') as f:\n",
    "        magic, num, rows, cols = struct.unpack(\">IIII\", f.read(16))\n",
    "        test_img = np.fromfile(f, dtype=np.uint8).reshape(len(test_label), rows, cols)\n",
    "        \n",
    "    return training_img.astype(np.float64), training_label, test_img.astype(np.float64), test_label\n",
    "\n",
    "data_dir = 'dataset/MNIST'\n",
    "training_img, training_label, test_img, test_label = read_mnist_dataset(data_dir)\n",
    "training_img_vectors = np.reshape(training_img, (training_img.shape[0], -1))\n",
    "test_img_vectors = np.reshape(test_img, (test_img.shape[0], -1))\n",
    "\n",
    "print('training image shape: ', training_img.shape)\n",
    "print('training image vectors shape: ', training_img_vectors.shape)\n",
    "print('training label shape: ', training_label.shape)\n",
    "print('test image shape: ', test_img.shape)\n",
    "print('test image vectors shape: ', test_img_vectors.shape)\n",
    "print('test label shape: ', test_label.shape)\n",
    "\n",
    "# the dataset is too big, so we use a subset of it\n",
    "print('\\nAfter sampling: ')\n",
    "traning_subset_idx = sample_without_replacement(n_population=training_img_vectors.shape[0], n_samples=10000)\n",
    "training_img_vectors = training_img_vectors[traning_subset_idx]\n",
    "training_label = training_label[traning_subset_idx]\n",
    "training_img = training_img[traning_subset_idx]\n",
    "\n",
    "test_subset_idx = sample_without_replacement(n_population=test_img_vectors.shape[0], n_samples=1000)\n",
    "test_img_vectors = test_img_vectors[test_subset_idx]\n",
    "test_label = test_label[test_subset_idx]\n",
    "test_img = test_img[test_subset_idx]\n",
    "\n",
    "print('training image shape: ', training_img.shape)\n",
    "print('training image vectors shape: ', training_img_vectors.shape)\n",
    "print('training label shape: ', training_label.shape)\n",
    "print('test image shape: ', test_img.shape)\n",
    "print('test image vectors shape: ', test_img_vectors.shape)\n",
    "print('test label shape: ', test_label.shape)"
   ]
  },
  {
   "cell_type": "markdown",
   "metadata": {
    "colab_type": "text",
    "id": "xXmwkMcQloXW"
   },
   "source": [
    "### Visualize the Data (Training)"
   ]
  },
  {
   "cell_type": "code",
   "execution_count": 250,
   "metadata": {
    "colab": {
     "base_uri": "https://localhost:8080/",
     "height": 282
    },
    "colab_type": "code",
    "id": "QGdQ6etCloXX",
    "outputId": "42409c8e-302f-49bc-d2fd-4cd1f9296d36"
   },
   "outputs": [
    {
     "name": "stdout",
     "output_type": "stream",
     "text": [
      "Label:  8\n"
     ]
    },
    {
     "data": {
      "image/png": "[encoded data removed]",
      "text/plain": [
       "<Figure size 432x288 with 1 Axes>"
      ]
     },
     "metadata": {
      "needs_background": "light"
     },
     "output_type": "display_data"
    }
   ],
   "source": [
    "print('Label: ', training_label[0])\n",
    "plt.imshow(training_img[0].reshape(28,28),cmap='gray')\n",
    "plt.show()"
   ]
  },
  {
   "cell_type": "markdown",
   "metadata": {
    "colab_type": "text",
    "id": "zRDTLhSXloXa"
   },
   "source": [
    "### Visualize the Data (Test)"
   ]
  },
  {
   "cell_type": "code",
   "execution_count": 251,
   "metadata": {
    "colab": {
     "base_uri": "https://localhost:8080/",
     "height": 282
    },
    "colab_type": "code",
    "id": "RysFK5ogloXa",
    "outputId": "a2d56691-997b-4e27-e78c-8570a392be76"
   },
   "outputs": [
    {
     "name": "stdout",
     "output_type": "stream",
     "text": [
      "Label:  1\n"
     ]
    },
    {
     "data": {
      "image/png": "[encoded data removed]",
      "text/plain": [
       "<Figure size 432x288 with 1 Axes>"
      ]
     },
     "metadata": {
      "needs_background": "light"
     },
     "output_type": "display_data"
    }
   ],
   "source": [
    "print('Label: ', test_label[0])\n",
    "plt.imshow(test_img[0].reshape(28,28),cmap='gray')\n",
    "plt.show()"
   ]
  },
  {
   "cell_type": "markdown",
   "metadata": {
    "colab_type": "text",
    "id": "WKCnipX3loXd"
   },
   "source": [
    "## kNN Model\n",
    "\n",
    "- The implementation has a complexity of $O(nd+kn)$ (since d<<n and k<<n, we have $O(nd+kn)=O(n)$), where d is the data dimension and n is the number of training data"
   ]
  },
  {
   "cell_type": "code",
   "execution_count": 0,
   "metadata": {
    "colab": {},
    "colab_type": "code",
    "id": "z_KRNuemloXe"
   },
   "outputs": [],
   "source": [
    "def euclidean_dist(data_0, data_1): \n",
    "    return np.linalg.norm(data_0 - data_1, ord=2)\n",
    "\n",
    "\n",
    "class kNN_model:\n",
    "    def __init__(self, n_neighbors, dist=euclidean_dist):\n",
    "        self.dist_func = dist\n",
    "        self.k = n_neighbors\n",
    "        self.X = None\n",
    "        self.y = None\n",
    "        \n",
    "    def fit(self, X, y):\n",
    "        self.X = X\n",
    "        self.y = y\n",
    "    \n",
    "    def predict(self, data_x):\n",
    "        prediction = []\n",
    "        for data_point in data_x:\n",
    "            prediction.append(self.predict_each(data_point))\n",
    "        return prediction\n",
    "    \n",
    "    def predict_each(self, data_x):\n",
    "        neighbor_idx, _ = self.k_neighbors(data_x)\n",
    "\n",
    "        # use the selected neighbors to get the prediction\n",
    "        votes = list()\n",
    "        for idx in neighbor_idx:\n",
    "            votes.append(self.y[idx])\n",
    "        vote_counter = Counter(votes)\n",
    "        # return the most frequent\n",
    "        return vote_counter.most_common()[0][0]\n",
    "    \n",
    "    def k_neighbors(self, data_x):\n",
    "        n_data = self.X.shape[0]\n",
    "        is_selected = np.zeros(shape=(n_data,), dtype=np.int8)\n",
    "        neighbor_idx = list()\n",
    "        \n",
    "        # calculate the distance\n",
    "        distance = np.zeros(shape=(n_data,))\n",
    "        for x_i, x in enumerate(self.X):\n",
    "            distance[x_i] = self.dist_func(data_x, x)\n",
    "\n",
    "        for _ in range(0, self.k):\n",
    "            current_min = None\n",
    "            current_min_index = None\n",
    "            \n",
    "            for x_i, x in enumerate(self.X):\n",
    "                if is_selected[x_i] == 1:\n",
    "                    continue\n",
    "                \n",
    "                dist_to_neighbor = distance[x_i]\n",
    "                if current_min is None or current_min > dist_to_neighbor:\n",
    "                    current_min = dist_to_neighbor\n",
    "                    current_min_index = x_i\n",
    "                \n",
    "            # select the current minimum\n",
    "            is_selected[current_min_index] = 1\n",
    "            neighbor_idx.append(current_min_index)\n",
    "        return neighbor_idx, distance[neighbor_idx]"
   ]
  },
  {
   "cell_type": "markdown",
   "metadata": {
    "colab_type": "text",
    "id": "qEQsUNh5loXg"
   },
   "source": [
    "### Evaluation"
   ]
  },
  {
   "cell_type": "code",
   "execution_count": 7,
   "metadata": {
    "colab": {
     "base_uri": "https://localhost:8080/",
     "height": 323
    },
    "colab_type": "code",
    "id": "Xh7l7mBYloXg",
    "outputId": "0ceeb638-e76f-4f85-d5be-38c83dd9b22e"
   },
   "outputs": [
    {
     "name": "stdout",
     "output_type": "stream",
     "text": [
      "k: 1, test data: 999/999, prediction: 1, true prediction: 1, current accuray: 0.944000\n",
      "k:  1 , accuracy:  0.944\n",
      "k: 3, test data: 999/999, prediction: 1, true prediction: 1, current accuray: 0.941000\n",
      "k:  3 , accuracy:  0.941\n",
      "k: 5, test data: 999/999, prediction: 1, true prediction: 1, current accuray: 0.942000\n",
      "k:  5 , accuracy:  0.942\n",
      "k: 10, test data: 999/999, prediction: 1, true prediction: 1, current accuray: 0.941000\n",
      "k:  10 , accuracy:  0.941\n",
      "k: 20, test data: 999/999, prediction: 1, true prediction: 1, current accuray: 0.927000\n",
      "k:  20 , accuracy:  0.927\n",
      "k: 30, test data: 999/999, prediction: 1, true prediction: 1, current accuray: 0.914000\n",
      "k:  30 , accuracy:  0.914\n",
      "k: 40, test data: 999/999, prediction: 1, true prediction: 1, current accuray: 0.904000\n",
      "k:  40 , accuracy:  0.904\n",
      "k: 50, test data: 999/999, prediction: 1, true prediction: 1, current accuray: 0.897000\n",
      "k:  50 , accuracy:  0.897\n",
      "k: 60, test data: 999/999, prediction: 1, true prediction: 1, current accuray: 0.895000\n",
      "k:  60 , accuracy:  0.895\n"
     ]
    }
   ],
   "source": [
    "def run_evaluation(model_to_use, training_X, training_y, test_X, test_y):\n",
    "    k_list = [1, 3, 5, 10, 20, 30, 40, 50, 60]\n",
    "    accuracy = []\n",
    "    n_test = float(test_y.shape[0])\n",
    "    \n",
    "    for k in k_list:\n",
    "        model = model_to_use(n_neighbors=k)\n",
    "        model.fit(training_X, training_y)\n",
    "        \n",
    "        n_correct = 0\n",
    "        for test_idx in range(0, int(n_test)):\n",
    "            \n",
    "            prediction = model.predict([test_X[test_idx]])[0]\n",
    "            true_prediction = test_y[test_idx]\n",
    "            if prediction == true_prediction:\n",
    "                n_correct += 1\n",
    "            \n",
    "            log_str = '\\rk: %d, test data: %d/%d, prediction: %d, true prediction: %d, current accuray: %f' % (k, test_idx, n_test-1, prediction, true_prediction, float(n_correct/(test_idx+1)))\n",
    "            sys.stdout.write(log_str)\n",
    "            sys.stdout.flush()\n",
    "            \n",
    "        accuracy_k = n_correct/n_test\n",
    "        print('\\nk: ', k, ', accuracy: ', accuracy_k)\n",
    "        accuracy.append(accuracy_k)\n",
    "\n",
    "    return accuracy\n",
    "\n",
    "accuracy_knn = run_evaluation(kNN_model, training_img_vectors, training_label, test_img_vectors, test_label)"
   ]
  },
  {
   "cell_type": "markdown",
   "metadata": {
    "colab_type": "text",
    "id": "6RcXFF_Im6MX"
   },
   "source": [
    "### Visualize the Result"
   ]
  },
  {
   "cell_type": "code",
   "execution_count": 8,
   "metadata": {
    "colab": {
     "base_uri": "https://localhost:8080/",
     "height": 281
    },
    "colab_type": "code",
    "id": "qEG7nTqGnpHj",
    "outputId": "07ba96bc-2416-40b7-d253-7095faa5943f"
   },
   "outputs": [
    {
     "data": {
      "image/png": "[encoded data removed]",
      "text/plain": [
       "<Figure size 432x288 with 1 Axes>"
      ]
     },
     "metadata": {
      "tags": []
     },
     "output_type": "display_data"
    }
   ],
   "source": [
    "def plot_accuracy_versus_accuracy(k_list, accuracy_knn):\n",
    "    plt.plot(k_list, accuracy_knn, 'r', label='k versus accuracy')\n",
    "    plt.legend()\n",
    "    plt.title('kNN: k versus accuracy')\n",
    "\n",
    "k_list = [1, 3, 5, 10, 20, 30, 40, 50, 60]\n",
    "plot_accuracy_versus_accuracy(k_list, accuracy_knn)"
   ]
  },
  {
   "cell_type": "code",
   "execution_count": 0,
   "metadata": {
    "colab": {},
    "colab_type": "code",
    "id": "KLHvBFXMoOOZ"
   },
   "outputs": [],
   "source": []
  }
 ],
 "metadata": {
  "colab": {
   "collapsed_sections": [],
   "name": "kNN from Scratch.ipynb",
   "provenance": [],
   "toc_visible": true
  },
  "kernelspec": {
   "display_name": "Python 3",
   "language": "python",
   "name": "python3"
  },
  "language_info": {
   "codemirror_mode": {
    "name": "ipython",
    "version": 3
   },
   "file_extension": ".py",
   "mimetype": "text/x-python",
   "name": "python",
   "nbconvert_exporter": "python",
   "pygments_lexer": "ipython3",
   "version": "3.7.3"
  }
 },
 "nbformat": 4,
 "nbformat_minor": 1
}
